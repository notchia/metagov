{
 "cells": [
  {
   "cell_type": "code",
   "execution_count": 1,
   "id": "931e2721",
   "metadata": {},
   "outputs": [],
   "source": [
    "import numpy as np\n",
    "import pandas as pd\n",
    "import matplotlib.pyplot as plt\n",
    "import seaborn as sns\n",
    "import scipy.stats as stats\n",
    "from pprint import pprint\n",
    "from itertools import combinations, cycle, islice\n",
    "from scipy.cluster.hierarchy import dendrogram\n",
    "from sklearn.metrics.pairwise import cosine_similarity, manhattan_distances\n",
    "from sklearn.decomposition import PCA\n",
    "from sklearn.cluster import AgglomerativeClustering, AffinityPropagation, FeatureAgglomeration\n",
    "from sklearn.feature_extraction import DictVectorizer\n",
    "from kmodes.kmodes import KModes\n",
    "from kmodes.kprototypes import KPrototypes"
   ]
  },
  {
   "cell_type": "code",
   "execution_count": 2,
   "id": "5ef1d996",
   "metadata": {},
   "outputs": [],
   "source": [
    "from modules import at2df # Small custom wrapper functions for the Airtable library"
   ]
  },
  {
   "cell_type": "code",
   "execution_count": 3,
   "id": "aaecde9f",
   "metadata": {},
   "outputs": [],
   "source": [
    "# Plot formatting\n",
    "DEFAULT_COLOR = '#66C2A5'\n",
    "sns.set(rc={\"figure.figsize\":(7, 5)})\n",
    "sns.set(font_scale=1.25)"
   ]
  },
  {
   "cell_type": "code",
   "execution_count": 4,
   "id": "0cbcd156",
   "metadata": {},
   "outputs": [],
   "source": [
    "# Output settings\n",
    "SAVE = True\n",
    "SAVEDIR = 'tmp'\n",
    "kwargs_svg = {'format': 'svg', 'bbox_inches': 'tight'}\n",
    "kwargs_png = {'format': 'png', 'bbox_inches': 'tight', 'dpi': 300}"
   ]
  },
  {
   "cell_type": "markdown",
   "id": "742f7c47",
   "metadata": {},
   "source": [
    "# Cryptopolitical Typology Quiz preliminary analysis\n",
    "\n",
    "The [Cryptopolitical Typology Quiz](https://metagov.typeform.com/cryptopolitics) was developed by the [Metagovernance Project](https://metagov.org/) to help the crypto community understand its political, economic, and governance beliefs. Survey results were collected from September 27, 2021 through March 4, 2022 and have been published on the [Govbase Airtable database](https://airtable.com/shr9LYMni8pBUVD6q/tblvwbt4KFm8MOSUQ). \n",
    "\n",
    "This notebook includes:\n",
    "- Importing the data\n",
    "- Response rates\n",
    "- Distribution of (and correlation between) faction assignments\n",
    "- Distribution of (and correlation between) responses to individual questions\n",
    "- Bitcoin versus Ethereum\n",
    "- Feature selection, dimensionality reduction, and clustering\n",
    "\n",
    "To run this analysis notebook yourself, you will need an Airtable API key. If you are interested in supporting the Cryptopolitics project, please get in touch with [josh@metagov.org](josh@metagov.org), drop a coin in our [Gitcoin grant](https://gitcoin.co/grants/1573/govbase-a-database-for-daos-and-other-online-comm), or join us in the [Metagov Discord](https://discord.gg/7k26vVvY9e)."
   ]
  },
  {
   "cell_type": "markdown",
   "id": "a5fb1bb7",
   "metadata": {},
   "source": [
    "## Importing the data\n",
    "Use an API key and a small wrapper around the [Airtable API library](https://pypi.org/project/airtable/) to import the relevant columns."
   ]
  },
  {
   "cell_type": "code",
   "execution_count": 5,
   "id": "62e03e7a",
   "metadata": {},
   "outputs": [],
   "source": [
    "at = at2df.get_airtable()"
   ]
  },
  {
   "cell_type": "code",
   "execution_count": 6,
   "id": "36f892c7",
   "metadata": {},
   "outputs": [],
   "source": [
    "df = at2df.get_table_as_df(at, 'Cryptopolitical Typology Quiz')"
   ]
  },
  {
   "cell_type": "code",
   "execution_count": 7,
   "id": "3499b341",
   "metadata": {},
   "outputs": [],
   "source": [
    "# Define relevant columns lists, in order\n",
    "cols_questions_orig = ['1. Which statement comes closest to your views?', \n",
    "                       '2. Which blockchain is the best?','3', '4', '5', '6', '7', '8',\n",
    "                       '9. In order to grow, the crypto ecosystem should:','10', '11', '12', '13',\n",
    "                       '14. To get more favorable regulation of cryptocurrencies from national governments, the most important thing the crypto community can do is:',\n",
    "                       '15', '16. Who should have decision-making power over a blockchain?', '17. I\\'m here for...',\n",
    "                       '18. Do you consider yourself:', '19. OPTIONAL: Do you affiliate with any of the following ecosystems or communities?']\n",
    "cols_results = ['classification', 'politics', 'economics', 'governance']\n",
    "\n",
    "def rename_col(x):\n",
    "    \"\"\"Rename question columns (from cols_questions_orig) to Q{num}; leave the rest as is\"\"\"\n",
    "    if x[0].isdigit():\n",
    "        return 'Q'+x.split('.')[0]\n",
    "    else:\n",
    "        return x\n",
    "\n",
    "# Rename question columns for easier accessing/visualization throughout\n",
    "cols_questions = [rename_col(x) for x in cols_questions_orig]\n",
    "df.rename(columns=rename_col, inplace=True)\n",
    "\n",
    "# To convert back and forth between column names and question number\n",
    "n2qDict = {i+1: x for (i, x) in enumerate(cols_questions)}\n",
    "q2nDict = {x: i+1 for (i, x) in enumerate(cols_questions)}"
   ]
  },
  {
   "cell_type": "code",
   "execution_count": 8,
   "id": "f57c107e",
   "metadata": {},
   "outputs": [],
   "source": [
    "# Define the canonical order for the factions/classes (for display purposes)\n",
    "factionOrders = {'politics': ['Crypto-leftist', 'DAOist', 'True neutral', 'Crypto-libertarian', 'Crypto-ancap'],\n",
    "                 'economics': ['Earner', 'Cryptopunk', 'NPC', 'Techtrepreneur', 'Degen'],\n",
    "                 'governance': ['Walchian', 'Zamfirist', 'Noob', 'Gavinist', 'Szabian']}"
   ]
  },
  {
   "cell_type": "code",
   "execution_count": 9,
   "id": "8fb1b0df",
   "metadata": {},
   "outputs": [],
   "source": [
    "# Split data into question responses and faction results DataFrames\n",
    "df_questions = df[cols_questions]\n",
    "df_results = df[cols_results]"
   ]
  },
  {
   "cell_type": "markdown",
   "id": "7d503b3b",
   "metadata": {},
   "source": [
    "## Response rates\n",
    "How many respondents were there, and how thoroughly did they fill out the survey?"
   ]
  },
  {
   "cell_type": "code",
   "execution_count": 10,
   "id": "7577aa8a",
   "metadata": {},
   "outputs": [
    {
     "name": "stdout",
     "output_type": "stream",
     "text": [
      "Number of responses: 3710\n",
      "Number of unique responses (ignoring Q2 and Q19): 3608\n",
      "\n",
      "Number of responses with no unanswered questions: 3418\n",
      "Number of unique responses with no unanswered questions (ignoring Q2 and Q19): 3321\n"
     ]
    }
   ],
   "source": [
    "# Q2 and Q19 ask about affiliations with specific blockchains, ecosystems, or\n",
    "# other crypto communities.\n",
    "\n",
    "df_tmp = df_questions.copy().drop(columns=['Q2', 'Q19'])\n",
    "gb_tmp = df_tmp.groupby(list(df_tmp.columns), dropna=False)\n",
    "nResponses = len(df_tmp.index)\n",
    "print(f\"Number of responses: {nResponses}\")\n",
    "print(f\"Number of unique responses (ignoring Q2 and Q19): {gb_tmp.ngroups}\\n\")\n",
    "\n",
    "df_tmp = df_tmp.dropna()\n",
    "gb_tmp = df_tmp.groupby(list(df_tmp.columns), dropna=False)\n",
    "print(f\"Number of responses with no unanswered questions: {len(df_tmp.index)}\")\n",
    "print(f\"Number of unique responses with no unanswered questions (ignoring Q2 and Q19): {gb_tmp.ngroups}\")"
   ]
  },
  {
   "cell_type": "code",
   "execution_count": 11,
   "id": "432cb93b",
   "metadata": {},
   "outputs": [
    {
     "name": "stdout",
     "output_type": "stream",
     "text": [
      "Percentage of respondents who chose not to answer each question:\n",
      "Q1:\t0.5%\n",
      "Q2:\t76.7%\n",
      "Q3:\t0.6%\n",
      "Q4:\t0.4%\n",
      "Q5:\t0.6%\n",
      "Q6:\t0.6%\n",
      "Q7:\t0.5%\n",
      "Q8:\t0.8%\n",
      "Q9:\t0.7%\n",
      "Q10:\t0.9%\n",
      "Q11:\t1.5%\n",
      "Q12:\t0.9%\n",
      "Q13:\t1.0%\n",
      "Q14:\t0.9%\n",
      "Q15:\t1.0%\n",
      "Q16:\t0.8%\n",
      "Q17:\t1.2%\n",
      "Q18:\t0.8%\n"
     ]
    }
   ],
   "source": [
    "# This could help us know which questions or set of possible choices were\n",
    "# insufficient to capture the range of beliefs held.\n",
    "# Note that Q2 could only be answered if a particular response was given for Q1.\n",
    "\n",
    "print(\"Percentage of respondents who chose not to answer each question:\")\n",
    "for col in cols_questions[:-1]:\n",
    "    print(f\"{col}:\\t{100*df_questions[col].isnull().sum()/nResponses:.1f}%\")"
   ]
  },
  {
   "cell_type": "markdown",
   "id": "923c5d42",
   "metadata": {},
   "source": [
    "## Distribution of faction assignments\n",
    "- What percentage of respondents were assigned each faction/class?\n",
    "- Are faction/class assignments correlated? This is an indication of how independent our defined \"axes\" of politics, economics, and governance are."
   ]
  },
  {
   "cell_type": "code",
   "execution_count": 12,
   "id": "04f6a30a",
   "metadata": {},
   "outputs": [],
   "source": [
    "def plot_pie_faction(col, df, colors=sns.color_palette(\"Set2\")):\n",
    "    \"\"\"Plot pie chart for overall faction\"\"\"\n",
    "    \n",
    "    vals = df_results[col].value_counts()\n",
    "    n = vals.sum()\n",
    "    labels = [f\"{k} ({100*v/n:.0f}%)\" for k, v in vals.items()]\n",
    "    \n",
    "    plt.figure()\n",
    "    fig = plt.pie(vals, labels=labels, colors=colors, wedgeprops=dict(width=0.5))\n",
    "    \n",
    "    if SAVE:\n",
    "        fname = f'{SAVEDIR}/cryptopolitics_faction_{col}'\n",
    "        plt.savefig(f'{fname}.svg', **kwargs_svg)\n",
    "        plt.savefig(f'{fname}.png', **kwargs_png)"
   ]
  },
  {
   "cell_type": "code",
   "execution_count": 13,
   "id": "a59558c5",
   "metadata": {},
   "outputs": [],
   "source": [
    "def cramers_v(q1, q2, verbose=False):\n",
    "    \"\"\"Calculate Cramer's V for two categorical questions by cross-tabulating\"\"\"\n",
    "    \n",
    "    assert len(q1.index) == len(q2.index), \"Make sure the datasets are of equal length\"\n",
    "    \n",
    "    # Skip questions with list as response\n",
    "    try:\n",
    "        ct = pd.crosstab(q1, q2)\n",
    "    except TypeError:\n",
    "        return np.nan\n",
    "    \n",
    "    chi2 = stats.chi2_contingency(ct)[0]\n",
    "    n = len(q1.index)\n",
    "    nRows, nCols = ct.shape\n",
    "    minDim = min(nRows-1, nCols-1)\n",
    "    \n",
    "    # Only compute if both questions have at least two observed responses\n",
    "    # E.g., Q2 is only answered if a particular answer is given to Q1\n",
    "    if minDim == 0:\n",
    "        return np.nan\n",
    "    \n",
    "    V = np.sqrt((chi2/n)/minDim)\n",
    "\n",
    "    if verbose:   \n",
    "        ct_norm = pd.crosstab(q1, q2, normalize=True)*100\n",
    "        rowName = q1.name\n",
    "        colName = q2.name\n",
    "        rowList = factionOrders[rowName]\n",
    "        colList = factionOrders[colName]\n",
    "        ct_norm = ct_norm.reindex(rowList)[colList]\n",
    "     \n",
    "        sns.heatmap(ct_norm, annot=True, fmt=\"0.1f\", cmap=\"YlGnBu\", cbar_kws={'label': \"Percentage of respondents\"})\n",
    "        \n",
    "        if SAVE:\n",
    "            fname = f\"{SAVEDIR}/cryptopolitics_{rowName}-{colName}_heatmap\"\n",
    "            plt.savefig(f'{fname}.svg', **kwargs_svg)\n",
    "            plt.savefig(f'{fname}.png', **kwargs_png)\n",
    "    \n",
    "    return V"
   ]
  },
  {
   "cell_type": "code",
   "execution_count": 14,
   "id": "c9d93844",
   "metadata": {},
   "outputs": [],
   "source": [
    "def compute_cramers_v_matrix(df):\n",
    "    \"\"\"Compute Cramer's V for each pair of questions\"\"\"\n",
    "    \n",
    "    cols = list(df.columns)\n",
    "    nCols = len(cols)\n",
    "    cramersMatrix = np.zeros((nCols, nCols))\n",
    "    for i, c1 in enumerate(cols):\n",
    "        for j, c2 in enumerate(cols):\n",
    "            # Select only rows for which both questions were answered\n",
    "            df_tmp = df[pd.notnull(df[c1]) & pd.notnull(df[c2])]\n",
    "            cramersMatrix[i, j] = cramers_v(df_tmp[c1], df_tmp[c2])\n",
    "            \n",
    "    return cramersMatrix"
   ]
  },
  {
   "cell_type": "code",
   "execution_count": 15,
   "id": "3df992e7",
   "metadata": {},
   "outputs": [
    {
     "ename": "FileNotFoundError",
     "evalue": "[Errno 2] No such file or directory: 'tmp/cryptopolitics_faction_classification.svg'",
     "output_type": "error",
     "traceback": [
      "\u001b[0;31m---------------------------------------------------------------------------\u001b[0m",
      "\u001b[0;31mFileNotFoundError\u001b[0m                         Traceback (most recent call last)",
      "\u001b[1;32m/home/notchia/Repositories/metagov/cryptopolitics_survey_analysis_full.ipynb Cell 19'\u001b[0m in \u001b[0;36m<cell line: 2>\u001b[0;34m()\u001b[0m\n\u001b[1;32m      <a href='vscode-notebook-cell:/home/notchia/Repositories/metagov/cryptopolitics_survey_analysis_full.ipynb#ch0000018?line=0'>1</a>\u001b[0m \u001b[39m# Pie chart for overall faction assignments\u001b[39;00m\n\u001b[0;32m----> <a href='vscode-notebook-cell:/home/notchia/Repositories/metagov/cryptopolitics_survey_analysis_full.ipynb#ch0000018?line=1'>2</a>\u001b[0m plot_pie_faction(\u001b[39m'\u001b[39;49m\u001b[39mclassification\u001b[39;49m\u001b[39m'\u001b[39;49m, df_results, colors\u001b[39m=\u001b[39;49msns\u001b[39m.\u001b[39;49mcolor_palette(\u001b[39m\"\u001b[39;49m\u001b[39mPaired\u001b[39;49m\u001b[39m\"\u001b[39;49m))\n",
      "\u001b[1;32m/home/notchia/Repositories/metagov/cryptopolitics_survey_analysis_full.ipynb Cell 16'\u001b[0m in \u001b[0;36mplot_pie_faction\u001b[0;34m(col, df, colors)\u001b[0m\n\u001b[1;32m     <a href='vscode-notebook-cell:/home/notchia/Repositories/metagov/cryptopolitics_survey_analysis_full.ipynb#ch0000015?line=10'>11</a>\u001b[0m \u001b[39mif\u001b[39;00m SAVE:\n\u001b[1;32m     <a href='vscode-notebook-cell:/home/notchia/Repositories/metagov/cryptopolitics_survey_analysis_full.ipynb#ch0000015?line=11'>12</a>\u001b[0m     fname \u001b[39m=\u001b[39m \u001b[39mf\u001b[39m\u001b[39m'\u001b[39m\u001b[39m{\u001b[39;00mSAVEDIR\u001b[39m}\u001b[39;00m\u001b[39m/cryptopolitics_faction_\u001b[39m\u001b[39m{\u001b[39;00mcol\u001b[39m}\u001b[39;00m\u001b[39m'\u001b[39m\n\u001b[0;32m---> <a href='vscode-notebook-cell:/home/notchia/Repositories/metagov/cryptopolitics_survey_analysis_full.ipynb#ch0000015?line=12'>13</a>\u001b[0m     plt\u001b[39m.\u001b[39;49msavefig(\u001b[39mf\u001b[39;49m\u001b[39m'\u001b[39;49m\u001b[39m{\u001b[39;49;00mfname\u001b[39m}\u001b[39;49;00m\u001b[39m.svg\u001b[39;49m\u001b[39m'\u001b[39;49m, \u001b[39m*\u001b[39;49m\u001b[39m*\u001b[39;49mkwargs_svg)\n\u001b[1;32m     <a href='vscode-notebook-cell:/home/notchia/Repositories/metagov/cryptopolitics_survey_analysis_full.ipynb#ch0000015?line=13'>14</a>\u001b[0m     plt\u001b[39m.\u001b[39msavefig(\u001b[39mf\u001b[39m\u001b[39m'\u001b[39m\u001b[39m{\u001b[39;00mfname\u001b[39m}\u001b[39;00m\u001b[39m.png\u001b[39m\u001b[39m'\u001b[39m, \u001b[39m*\u001b[39m\u001b[39m*\u001b[39mkwargs_png)\n",
      "File \u001b[0;32m~/anaconda3/envs/metagov/lib/python3.9/site-packages/matplotlib/pyplot.py:958\u001b[0m, in \u001b[0;36msavefig\u001b[0;34m(*args, **kwargs)\u001b[0m\n\u001b[1;32m    <a href='file:///home/notchia/anaconda3/envs/metagov/lib/python3.9/site-packages/matplotlib/pyplot.py?line=954'>955</a>\u001b[0m \u001b[39m@_copy_docstring_and_deprecators\u001b[39m(Figure\u001b[39m.\u001b[39msavefig)\n\u001b[1;32m    <a href='file:///home/notchia/anaconda3/envs/metagov/lib/python3.9/site-packages/matplotlib/pyplot.py?line=955'>956</a>\u001b[0m \u001b[39mdef\u001b[39;00m \u001b[39msavefig\u001b[39m(\u001b[39m*\u001b[39margs, \u001b[39m*\u001b[39m\u001b[39m*\u001b[39mkwargs):\n\u001b[1;32m    <a href='file:///home/notchia/anaconda3/envs/metagov/lib/python3.9/site-packages/matplotlib/pyplot.py?line=956'>957</a>\u001b[0m     fig \u001b[39m=\u001b[39m gcf()\n\u001b[0;32m--> <a href='file:///home/notchia/anaconda3/envs/metagov/lib/python3.9/site-packages/matplotlib/pyplot.py?line=957'>958</a>\u001b[0m     res \u001b[39m=\u001b[39m fig\u001b[39m.\u001b[39;49msavefig(\u001b[39m*\u001b[39;49margs, \u001b[39m*\u001b[39;49m\u001b[39m*\u001b[39;49mkwargs)\n\u001b[1;32m    <a href='file:///home/notchia/anaconda3/envs/metagov/lib/python3.9/site-packages/matplotlib/pyplot.py?line=958'>959</a>\u001b[0m     fig\u001b[39m.\u001b[39mcanvas\u001b[39m.\u001b[39mdraw_idle()   \u001b[39m# need this if 'transparent=True' to reset colors\u001b[39;00m\n\u001b[1;32m    <a href='file:///home/notchia/anaconda3/envs/metagov/lib/python3.9/site-packages/matplotlib/pyplot.py?line=959'>960</a>\u001b[0m     \u001b[39mreturn\u001b[39;00m res\n",
      "File \u001b[0;32m~/anaconda3/envs/metagov/lib/python3.9/site-packages/matplotlib/figure.py:3019\u001b[0m, in \u001b[0;36mFigure.savefig\u001b[0;34m(self, fname, transparent, **kwargs)\u001b[0m\n\u001b[1;32m   <a href='file:///home/notchia/anaconda3/envs/metagov/lib/python3.9/site-packages/matplotlib/figure.py?line=3014'>3015</a>\u001b[0m     \u001b[39mfor\u001b[39;00m ax \u001b[39min\u001b[39;00m \u001b[39mself\u001b[39m\u001b[39m.\u001b[39maxes:\n\u001b[1;32m   <a href='file:///home/notchia/anaconda3/envs/metagov/lib/python3.9/site-packages/matplotlib/figure.py?line=3015'>3016</a>\u001b[0m         stack\u001b[39m.\u001b[39menter_context(\n\u001b[1;32m   <a href='file:///home/notchia/anaconda3/envs/metagov/lib/python3.9/site-packages/matplotlib/figure.py?line=3016'>3017</a>\u001b[0m             ax\u001b[39m.\u001b[39mpatch\u001b[39m.\u001b[39m_cm_set(facecolor\u001b[39m=\u001b[39m\u001b[39m'\u001b[39m\u001b[39mnone\u001b[39m\u001b[39m'\u001b[39m, edgecolor\u001b[39m=\u001b[39m\u001b[39m'\u001b[39m\u001b[39mnone\u001b[39m\u001b[39m'\u001b[39m))\n\u001b[0;32m-> <a href='file:///home/notchia/anaconda3/envs/metagov/lib/python3.9/site-packages/matplotlib/figure.py?line=3018'>3019</a>\u001b[0m \u001b[39mself\u001b[39;49m\u001b[39m.\u001b[39;49mcanvas\u001b[39m.\u001b[39;49mprint_figure(fname, \u001b[39m*\u001b[39;49m\u001b[39m*\u001b[39;49mkwargs)\n",
      "File \u001b[0;32m~/anaconda3/envs/metagov/lib/python3.9/site-packages/matplotlib/backend_bases.py:2319\u001b[0m, in \u001b[0;36mFigureCanvasBase.print_figure\u001b[0;34m(self, filename, dpi, facecolor, edgecolor, orientation, format, bbox_inches, pad_inches, bbox_extra_artists, backend, **kwargs)\u001b[0m\n\u001b[1;32m   <a href='file:///home/notchia/anaconda3/envs/metagov/lib/python3.9/site-packages/matplotlib/backend_bases.py?line=2314'>2315</a>\u001b[0m \u001b[39mtry\u001b[39;00m:\n\u001b[1;32m   <a href='file:///home/notchia/anaconda3/envs/metagov/lib/python3.9/site-packages/matplotlib/backend_bases.py?line=2315'>2316</a>\u001b[0m     \u001b[39m# _get_renderer may change the figure dpi (as vector formats\u001b[39;00m\n\u001b[1;32m   <a href='file:///home/notchia/anaconda3/envs/metagov/lib/python3.9/site-packages/matplotlib/backend_bases.py?line=2316'>2317</a>\u001b[0m     \u001b[39m# force the figure dpi to 72), so we need to set it again here.\u001b[39;00m\n\u001b[1;32m   <a href='file:///home/notchia/anaconda3/envs/metagov/lib/python3.9/site-packages/matplotlib/backend_bases.py?line=2317'>2318</a>\u001b[0m     \u001b[39mwith\u001b[39;00m cbook\u001b[39m.\u001b[39m_setattr_cm(\u001b[39mself\u001b[39m\u001b[39m.\u001b[39mfigure, dpi\u001b[39m=\u001b[39mdpi):\n\u001b[0;32m-> <a href='file:///home/notchia/anaconda3/envs/metagov/lib/python3.9/site-packages/matplotlib/backend_bases.py?line=2318'>2319</a>\u001b[0m         result \u001b[39m=\u001b[39m print_method(\n\u001b[1;32m   <a href='file:///home/notchia/anaconda3/envs/metagov/lib/python3.9/site-packages/matplotlib/backend_bases.py?line=2319'>2320</a>\u001b[0m             filename,\n\u001b[1;32m   <a href='file:///home/notchia/anaconda3/envs/metagov/lib/python3.9/site-packages/matplotlib/backend_bases.py?line=2320'>2321</a>\u001b[0m             facecolor\u001b[39m=\u001b[39;49mfacecolor,\n\u001b[1;32m   <a href='file:///home/notchia/anaconda3/envs/metagov/lib/python3.9/site-packages/matplotlib/backend_bases.py?line=2321'>2322</a>\u001b[0m             edgecolor\u001b[39m=\u001b[39;49medgecolor,\n\u001b[1;32m   <a href='file:///home/notchia/anaconda3/envs/metagov/lib/python3.9/site-packages/matplotlib/backend_bases.py?line=2322'>2323</a>\u001b[0m             orientation\u001b[39m=\u001b[39;49morientation,\n\u001b[1;32m   <a href='file:///home/notchia/anaconda3/envs/metagov/lib/python3.9/site-packages/matplotlib/backend_bases.py?line=2323'>2324</a>\u001b[0m             bbox_inches_restore\u001b[39m=\u001b[39;49m_bbox_inches_restore,\n\u001b[1;32m   <a href='file:///home/notchia/anaconda3/envs/metagov/lib/python3.9/site-packages/matplotlib/backend_bases.py?line=2324'>2325</a>\u001b[0m             \u001b[39m*\u001b[39;49m\u001b[39m*\u001b[39;49mkwargs)\n\u001b[1;32m   <a href='file:///home/notchia/anaconda3/envs/metagov/lib/python3.9/site-packages/matplotlib/backend_bases.py?line=2325'>2326</a>\u001b[0m \u001b[39mfinally\u001b[39;00m:\n\u001b[1;32m   <a href='file:///home/notchia/anaconda3/envs/metagov/lib/python3.9/site-packages/matplotlib/backend_bases.py?line=2326'>2327</a>\u001b[0m     \u001b[39mif\u001b[39;00m bbox_inches \u001b[39mand\u001b[39;00m restore_bbox:\n",
      "File \u001b[0;32m~/anaconda3/envs/metagov/lib/python3.9/site-packages/matplotlib/backend_bases.py:1648\u001b[0m, in \u001b[0;36m_check_savefig_extra_args.<locals>.wrapper\u001b[0;34m(*args, **kwargs)\u001b[0m\n\u001b[1;32m   <a href='file:///home/notchia/anaconda3/envs/metagov/lib/python3.9/site-packages/matplotlib/backend_bases.py?line=1639'>1640</a>\u001b[0m     _api\u001b[39m.\u001b[39mwarn_deprecated(\n\u001b[1;32m   <a href='file:///home/notchia/anaconda3/envs/metagov/lib/python3.9/site-packages/matplotlib/backend_bases.py?line=1640'>1641</a>\u001b[0m         \u001b[39m'\u001b[39m\u001b[39m3.3\u001b[39m\u001b[39m'\u001b[39m, name\u001b[39m=\u001b[39mname, removal\u001b[39m=\u001b[39m\u001b[39m'\u001b[39m\u001b[39m3.6\u001b[39m\u001b[39m'\u001b[39m,\n\u001b[1;32m   <a href='file:///home/notchia/anaconda3/envs/metagov/lib/python3.9/site-packages/matplotlib/backend_bases.py?line=1641'>1642</a>\u001b[0m         message\u001b[39m=\u001b[39m\u001b[39m'\u001b[39m\u001b[39m%(name)s\u001b[39;00m\u001b[39m() got unexpected keyword argument \u001b[39m\u001b[39m\"\u001b[39m\u001b[39m'\u001b[39m\n\u001b[1;32m   <a href='file:///home/notchia/anaconda3/envs/metagov/lib/python3.9/site-packages/matplotlib/backend_bases.py?line=1642'>1643</a>\u001b[0m                 \u001b[39m+\u001b[39m arg \u001b[39m+\u001b[39m \u001b[39m'\u001b[39m\u001b[39m\"\u001b[39m\u001b[39m which is no longer supported as of \u001b[39m\u001b[39m'\u001b[39m\n\u001b[1;32m   <a href='file:///home/notchia/anaconda3/envs/metagov/lib/python3.9/site-packages/matplotlib/backend_bases.py?line=1643'>1644</a>\u001b[0m                 \u001b[39m'\u001b[39m\u001b[39m%(since)s\u001b[39;00m\u001b[39m and will become an error \u001b[39m\u001b[39m'\u001b[39m\n\u001b[1;32m   <a href='file:///home/notchia/anaconda3/envs/metagov/lib/python3.9/site-packages/matplotlib/backend_bases.py?line=1644'>1645</a>\u001b[0m                 \u001b[39m'\u001b[39m\u001b[39m%(removal)s\u001b[39;00m\u001b[39m'\u001b[39m)\n\u001b[1;32m   <a href='file:///home/notchia/anaconda3/envs/metagov/lib/python3.9/site-packages/matplotlib/backend_bases.py?line=1645'>1646</a>\u001b[0m     kwargs\u001b[39m.\u001b[39mpop(arg)\n\u001b[0;32m-> <a href='file:///home/notchia/anaconda3/envs/metagov/lib/python3.9/site-packages/matplotlib/backend_bases.py?line=1647'>1648</a>\u001b[0m \u001b[39mreturn\u001b[39;00m func(\u001b[39m*\u001b[39;49margs, \u001b[39m*\u001b[39;49m\u001b[39m*\u001b[39;49mkwargs)\n",
      "File \u001b[0;32m~/anaconda3/envs/metagov/lib/python3.9/site-packages/matplotlib/_api/deprecation.py:386\u001b[0m, in \u001b[0;36mdelete_parameter.<locals>.wrapper\u001b[0;34m(*inner_args, **inner_kwargs)\u001b[0m\n\u001b[1;32m    <a href='file:///home/notchia/anaconda3/envs/metagov/lib/python3.9/site-packages/matplotlib/_api/deprecation.py?line=380'>381</a>\u001b[0m \u001b[39m@functools\u001b[39m\u001b[39m.\u001b[39mwraps(func)\n\u001b[1;32m    <a href='file:///home/notchia/anaconda3/envs/metagov/lib/python3.9/site-packages/matplotlib/_api/deprecation.py?line=381'>382</a>\u001b[0m \u001b[39mdef\u001b[39;00m \u001b[39mwrapper\u001b[39m(\u001b[39m*\u001b[39minner_args, \u001b[39m*\u001b[39m\u001b[39m*\u001b[39minner_kwargs):\n\u001b[1;32m    <a href='file:///home/notchia/anaconda3/envs/metagov/lib/python3.9/site-packages/matplotlib/_api/deprecation.py?line=382'>383</a>\u001b[0m     \u001b[39mif\u001b[39;00m \u001b[39mlen\u001b[39m(inner_args) \u001b[39m<\u001b[39m\u001b[39m=\u001b[39m name_idx \u001b[39mand\u001b[39;00m name \u001b[39mnot\u001b[39;00m \u001b[39min\u001b[39;00m inner_kwargs:\n\u001b[1;32m    <a href='file:///home/notchia/anaconda3/envs/metagov/lib/python3.9/site-packages/matplotlib/_api/deprecation.py?line=383'>384</a>\u001b[0m         \u001b[39m# Early return in the simple, non-deprecated case (much faster than\u001b[39;00m\n\u001b[1;32m    <a href='file:///home/notchia/anaconda3/envs/metagov/lib/python3.9/site-packages/matplotlib/_api/deprecation.py?line=384'>385</a>\u001b[0m         \u001b[39m# calling bind()).\u001b[39;00m\n\u001b[0;32m--> <a href='file:///home/notchia/anaconda3/envs/metagov/lib/python3.9/site-packages/matplotlib/_api/deprecation.py?line=385'>386</a>\u001b[0m         \u001b[39mreturn\u001b[39;00m func(\u001b[39m*\u001b[39;49minner_args, \u001b[39m*\u001b[39;49m\u001b[39m*\u001b[39;49minner_kwargs)\n\u001b[1;32m    <a href='file:///home/notchia/anaconda3/envs/metagov/lib/python3.9/site-packages/matplotlib/_api/deprecation.py?line=386'>387</a>\u001b[0m     arguments \u001b[39m=\u001b[39m signature\u001b[39m.\u001b[39mbind(\u001b[39m*\u001b[39minner_args, \u001b[39m*\u001b[39m\u001b[39m*\u001b[39minner_kwargs)\u001b[39m.\u001b[39marguments\n\u001b[1;32m    <a href='file:///home/notchia/anaconda3/envs/metagov/lib/python3.9/site-packages/matplotlib/_api/deprecation.py?line=387'>388</a>\u001b[0m     \u001b[39mif\u001b[39;00m is_varargs \u001b[39mand\u001b[39;00m arguments\u001b[39m.\u001b[39mget(name):\n",
      "File \u001b[0;32m~/anaconda3/envs/metagov/lib/python3.9/site-packages/matplotlib/_api/deprecation.py:412\u001b[0m, in \u001b[0;36mdelete_parameter.<locals>.wrapper\u001b[0;34m(*inner_args, **inner_kwargs)\u001b[0m\n\u001b[1;32m    <a href='file:///home/notchia/anaconda3/envs/metagov/lib/python3.9/site-packages/matplotlib/_api/deprecation.py?line=401'>402</a>\u001b[0m     deprecation_addendum \u001b[39m=\u001b[39m (\n\u001b[1;32m    <a href='file:///home/notchia/anaconda3/envs/metagov/lib/python3.9/site-packages/matplotlib/_api/deprecation.py?line=402'>403</a>\u001b[0m         \u001b[39mf\u001b[39m\u001b[39m\"\u001b[39m\u001b[39mIf any parameter follows \u001b[39m\u001b[39m{\u001b[39;00mname\u001b[39m!r}\u001b[39;00m\u001b[39m, they should be passed as \u001b[39m\u001b[39m\"\u001b[39m\n\u001b[1;32m    <a href='file:///home/notchia/anaconda3/envs/metagov/lib/python3.9/site-packages/matplotlib/_api/deprecation.py?line=403'>404</a>\u001b[0m         \u001b[39mf\u001b[39m\u001b[39m\"\u001b[39m\u001b[39mkeyword, not positionally.\u001b[39m\u001b[39m\"\u001b[39m)\n\u001b[1;32m    <a href='file:///home/notchia/anaconda3/envs/metagov/lib/python3.9/site-packages/matplotlib/_api/deprecation.py?line=404'>405</a>\u001b[0m     warn_deprecated(\n\u001b[1;32m    <a href='file:///home/notchia/anaconda3/envs/metagov/lib/python3.9/site-packages/matplotlib/_api/deprecation.py?line=405'>406</a>\u001b[0m         since,\n\u001b[1;32m    <a href='file:///home/notchia/anaconda3/envs/metagov/lib/python3.9/site-packages/matplotlib/_api/deprecation.py?line=406'>407</a>\u001b[0m         name\u001b[39m=\u001b[39m\u001b[39mrepr\u001b[39m(name),\n\u001b[0;32m   (...)\u001b[0m\n\u001b[1;32m    <a href='file:///home/notchia/anaconda3/envs/metagov/lib/python3.9/site-packages/matplotlib/_api/deprecation.py?line=409'>410</a>\u001b[0m                  \u001b[39melse\u001b[39;00m deprecation_addendum,\n\u001b[1;32m    <a href='file:///home/notchia/anaconda3/envs/metagov/lib/python3.9/site-packages/matplotlib/_api/deprecation.py?line=410'>411</a>\u001b[0m         \u001b[39m*\u001b[39m\u001b[39m*\u001b[39mkwargs)\n\u001b[0;32m--> <a href='file:///home/notchia/anaconda3/envs/metagov/lib/python3.9/site-packages/matplotlib/_api/deprecation.py?line=411'>412</a>\u001b[0m \u001b[39mreturn\u001b[39;00m func(\u001b[39m*\u001b[39;49minner_args, \u001b[39m*\u001b[39;49m\u001b[39m*\u001b[39;49minner_kwargs)\n",
      "File \u001b[0;32m~/anaconda3/envs/metagov/lib/python3.9/site-packages/matplotlib/backends/backend_svg.py:1321\u001b[0m, in \u001b[0;36mFigureCanvasSVG.print_svg\u001b[0;34m(self, filename, dpi, bbox_inches_restore, metadata, *args)\u001b[0m\n\u001b[1;32m   <a href='file:///home/notchia/anaconda3/envs/metagov/lib/python3.9/site-packages/matplotlib/backends/backend_svg.py?line=1284'>1285</a>\u001b[0m \u001b[39m@_check_savefig_extra_args\u001b[39m\n\u001b[1;32m   <a href='file:///home/notchia/anaconda3/envs/metagov/lib/python3.9/site-packages/matplotlib/backends/backend_svg.py?line=1285'>1286</a>\u001b[0m \u001b[39m@_api\u001b[39m\u001b[39m.\u001b[39mdelete_parameter(\u001b[39m\"\u001b[39m\u001b[39m3.4\u001b[39m\u001b[39m\"\u001b[39m, \u001b[39m\"\u001b[39m\u001b[39mdpi\u001b[39m\u001b[39m\"\u001b[39m)\n\u001b[1;32m   <a href='file:///home/notchia/anaconda3/envs/metagov/lib/python3.9/site-packages/matplotlib/backends/backend_svg.py?line=1286'>1287</a>\u001b[0m \u001b[39m@_api\u001b[39m\u001b[39m.\u001b[39mdelete_parameter(\u001b[39m\"\u001b[39m\u001b[39m3.5\u001b[39m\u001b[39m\"\u001b[39m, \u001b[39m\"\u001b[39m\u001b[39margs\u001b[39m\u001b[39m\"\u001b[39m)\n\u001b[1;32m   <a href='file:///home/notchia/anaconda3/envs/metagov/lib/python3.9/site-packages/matplotlib/backends/backend_svg.py?line=1287'>1288</a>\u001b[0m \u001b[39mdef\u001b[39;00m \u001b[39mprint_svg\u001b[39m(\u001b[39mself\u001b[39m, filename, \u001b[39m*\u001b[39margs, dpi\u001b[39m=\u001b[39m\u001b[39mNone\u001b[39;00m, bbox_inches_restore\u001b[39m=\u001b[39m\u001b[39mNone\u001b[39;00m,\n\u001b[1;32m   <a href='file:///home/notchia/anaconda3/envs/metagov/lib/python3.9/site-packages/matplotlib/backends/backend_svg.py?line=1288'>1289</a>\u001b[0m               metadata\u001b[39m=\u001b[39m\u001b[39mNone\u001b[39;00m):\n\u001b[1;32m   <a href='file:///home/notchia/anaconda3/envs/metagov/lib/python3.9/site-packages/matplotlib/backends/backend_svg.py?line=1289'>1290</a>\u001b[0m     \u001b[39m\"\"\"\u001b[39;00m\n\u001b[1;32m   <a href='file:///home/notchia/anaconda3/envs/metagov/lib/python3.9/site-packages/matplotlib/backends/backend_svg.py?line=1290'>1291</a>\u001b[0m \u001b[39m    Parameters\u001b[39;00m\n\u001b[1;32m   <a href='file:///home/notchia/anaconda3/envs/metagov/lib/python3.9/site-packages/matplotlib/backends/backend_svg.py?line=1291'>1292</a>\u001b[0m \u001b[39m    ----------\u001b[39;00m\n\u001b[0;32m   (...)\u001b[0m\n\u001b[1;32m   <a href='file:///home/notchia/anaconda3/envs/metagov/lib/python3.9/site-packages/matplotlib/backends/backend_svg.py?line=1318'>1319</a>\u001b[0m \u001b[39m        __ DC_\u001b[39;00m\n\u001b[1;32m   <a href='file:///home/notchia/anaconda3/envs/metagov/lib/python3.9/site-packages/matplotlib/backends/backend_svg.py?line=1319'>1320</a>\u001b[0m \u001b[39m    \"\"\"\u001b[39;00m\n\u001b[0;32m-> <a href='file:///home/notchia/anaconda3/envs/metagov/lib/python3.9/site-packages/matplotlib/backends/backend_svg.py?line=1320'>1321</a>\u001b[0m     \u001b[39mwith\u001b[39;00m cbook\u001b[39m.\u001b[39;49mopen_file_cm(filename, \u001b[39m\"\u001b[39;49m\u001b[39mw\u001b[39;49m\u001b[39m\"\u001b[39;49m, encoding\u001b[39m=\u001b[39;49m\u001b[39m\"\u001b[39;49m\u001b[39mutf-8\u001b[39;49m\u001b[39m\"\u001b[39;49m) \u001b[39mas\u001b[39;00m fh:\n\u001b[1;32m   <a href='file:///home/notchia/anaconda3/envs/metagov/lib/python3.9/site-packages/matplotlib/backends/backend_svg.py?line=1321'>1322</a>\u001b[0m         \u001b[39mif\u001b[39;00m \u001b[39mnot\u001b[39;00m cbook\u001b[39m.\u001b[39mfile_requires_unicode(fh):\n\u001b[1;32m   <a href='file:///home/notchia/anaconda3/envs/metagov/lib/python3.9/site-packages/matplotlib/backends/backend_svg.py?line=1322'>1323</a>\u001b[0m             fh \u001b[39m=\u001b[39m codecs\u001b[39m.\u001b[39mgetwriter(\u001b[39m'\u001b[39m\u001b[39mutf-8\u001b[39m\u001b[39m'\u001b[39m)(fh)\n",
      "File \u001b[0;32m~/anaconda3/envs/metagov/lib/python3.9/site-packages/matplotlib/cbook/__init__.py:465\u001b[0m, in \u001b[0;36mopen_file_cm\u001b[0;34m(path_or_file, mode, encoding)\u001b[0m\n\u001b[1;32m    <a href='file:///home/notchia/anaconda3/envs/metagov/lib/python3.9/site-packages/matplotlib/cbook/__init__.py?line=462'>463</a>\u001b[0m \u001b[39mdef\u001b[39;00m \u001b[39mopen_file_cm\u001b[39m(path_or_file, mode\u001b[39m=\u001b[39m\u001b[39m\"\u001b[39m\u001b[39mr\u001b[39m\u001b[39m\"\u001b[39m, encoding\u001b[39m=\u001b[39m\u001b[39mNone\u001b[39;00m):\n\u001b[1;32m    <a href='file:///home/notchia/anaconda3/envs/metagov/lib/python3.9/site-packages/matplotlib/cbook/__init__.py?line=463'>464</a>\u001b[0m     \u001b[39mr\u001b[39m\u001b[39m\"\"\"Pass through file objects and context-manage path-likes.\"\"\"\u001b[39;00m\n\u001b[0;32m--> <a href='file:///home/notchia/anaconda3/envs/metagov/lib/python3.9/site-packages/matplotlib/cbook/__init__.py?line=464'>465</a>\u001b[0m     fh, opened \u001b[39m=\u001b[39m to_filehandle(path_or_file, mode, \u001b[39mTrue\u001b[39;49;00m, encoding)\n\u001b[1;32m    <a href='file:///home/notchia/anaconda3/envs/metagov/lib/python3.9/site-packages/matplotlib/cbook/__init__.py?line=465'>466</a>\u001b[0m     \u001b[39mreturn\u001b[39;00m fh \u001b[39mif\u001b[39;00m opened \u001b[39melse\u001b[39;00m contextlib\u001b[39m.\u001b[39mnullcontext(fh)\n",
      "File \u001b[0;32m~/anaconda3/envs/metagov/lib/python3.9/site-packages/matplotlib/cbook/__init__.py:451\u001b[0m, in \u001b[0;36mto_filehandle\u001b[0;34m(fname, flag, return_opened, encoding)\u001b[0m\n\u001b[1;32m    <a href='file:///home/notchia/anaconda3/envs/metagov/lib/python3.9/site-packages/matplotlib/cbook/__init__.py?line=448'>449</a>\u001b[0m         fh \u001b[39m=\u001b[39m bz2\u001b[39m.\u001b[39mBZ2File(fname, flag)\n\u001b[1;32m    <a href='file:///home/notchia/anaconda3/envs/metagov/lib/python3.9/site-packages/matplotlib/cbook/__init__.py?line=449'>450</a>\u001b[0m     \u001b[39melse\u001b[39;00m:\n\u001b[0;32m--> <a href='file:///home/notchia/anaconda3/envs/metagov/lib/python3.9/site-packages/matplotlib/cbook/__init__.py?line=450'>451</a>\u001b[0m         fh \u001b[39m=\u001b[39m \u001b[39mopen\u001b[39;49m(fname, flag, encoding\u001b[39m=\u001b[39;49mencoding)\n\u001b[1;32m    <a href='file:///home/notchia/anaconda3/envs/metagov/lib/python3.9/site-packages/matplotlib/cbook/__init__.py?line=451'>452</a>\u001b[0m     opened \u001b[39m=\u001b[39m \u001b[39mTrue\u001b[39;00m\n\u001b[1;32m    <a href='file:///home/notchia/anaconda3/envs/metagov/lib/python3.9/site-packages/matplotlib/cbook/__init__.py?line=452'>453</a>\u001b[0m \u001b[39melif\u001b[39;00m \u001b[39mhasattr\u001b[39m(fname, \u001b[39m'\u001b[39m\u001b[39mseek\u001b[39m\u001b[39m'\u001b[39m):\n",
      "\u001b[0;31mFileNotFoundError\u001b[0m: [Errno 2] No such file or directory: 'tmp/cryptopolitics_faction_classification.svg'"
     ]
    },
    {
     "data": {
      "image/png": "[encoded data removed]",
      "text/plain": [
       "<Figure size 504x360 with 1 Axes>"
      ]
     },
     "metadata": {},
     "output_type": "display_data"
    }
   ],
   "source": [
    "# Pie chart for overall faction assignments\n",
    "plot_pie_faction('classification', df_results, colors=sns.color_palette(\"Paired\"))"
   ]
  },
  {
   "cell_type": "code",
   "execution_count": null,
   "id": "7c033ddd",
   "metadata": {},
   "outputs": [],
   "source": [
    "# Pie charts for specific dimensions of belief\n",
    "for col in cols_results[1:]:\n",
    "    plot_pie_faction(col, df_results)"
   ]
  },
  {
   "cell_type": "markdown",
   "id": "0d1e341a",
   "metadata": {},
   "source": [
    "### Correlation between faction/class assignments\n",
    "Plot cross-tabulation and calculate corresponding [Cramer's V](https://en.wikipedia.org/wiki/Cram%C3%A9r%27s_V), a measure of correlation between categorical variables."
   ]
  },
  {
   "cell_type": "code",
   "execution_count": null,
   "id": "8adfda01",
   "metadata": {},
   "outputs": [],
   "source": [
    "v = cramers_v(df_results['politics'], df_results['economics'], verbose=True)\n",
    "print(f\"\\nCorrelation: {v:.3f}\")"
   ]
  },
  {
   "cell_type": "code",
   "execution_count": null,
   "id": "11f11eb4",
   "metadata": {},
   "outputs": [],
   "source": [
    "v = cramers_v(df_results['politics'], df_results['governance'], verbose=True)\n",
    "print(f\"\\nCorrelation: {v:.3f}\")"
   ]
  },
  {
   "cell_type": "code",
   "execution_count": null,
   "id": "393564a9",
   "metadata": {},
   "outputs": [],
   "source": [
    "v = cramers_v(df_results['economics'], df_results['governance'], verbose=True)\n",
    "print(f\"\\nCorrelation: {v:.3f}\")"
   ]
  },
  {
   "cell_type": "markdown",
   "id": "60ea7665",
   "metadata": {},
   "source": [
    "For politics-economics and economics-governance, the Cramer's V correlation values values are quite small (close to 0 on a 0 to 1 scale). **This indicates that these pairs of labels may suitably characterize two independent \"axes\" of belief.**\n",
    "\n",
    "On inspection of the politics-governance cross-tabulation, **the proportion of crypto-ancaps who were Szabians (and vice versa) was higher than for the other faction combinations**. This makes sense given the aversion to centralized governance inherent in both of these labels."
   ]
  },
  {
   "cell_type": "markdown",
   "id": "62fdb7f5",
   "metadata": {},
   "source": [
    "## Distribution of responses to individual questions\n",
    "-  What percentage of respondents chose each answer for each question? Reproduction of the plots from the live [Typeform response page](https://metagov.typeform.com/report/bz9SbjUU/ZY07qRfTs68oypzt) (as of 01/09/2022). Note that this excludes respondents who did not respond to the question.\n",
    "- Are responses to individual questions correlated? This is an indication of whether the questions ask about distinct aspects of crypto beliefs."
   ]
  },
  {
   "cell_type": "code",
   "execution_count": null,
   "id": "aa079eb1",
   "metadata": {},
   "outputs": [],
   "source": [
    "def plot_cramers_v_matrix(df):\n",
    "    \"\"\"Plot heatmap of Cramer's V\"\"\"\n",
    "    \n",
    "    plt.figure(figsize=(8,8))\n",
    "    fig = sns.heatmap(df, cmap=sns.color_palette(\"Blues\", as_cmap=True), vmin=0, vmax=1, cbar_kws={'label': \"Cramer's V\"})\n",
    "    fig.xaxis.set_ticks_position(\"top\")\n",
    "    fig.set_xticklabels(labels=df.columns, rotation=60)\n",
    "    fig.set_aspect('equal')\n",
    "    \n",
    "    if SAVE:\n",
    "        fname = f'{SAVEDIR}/cryptopolitics_question_correlation_matrix'\n",
    "        plt.savefig(f'{fname}.svg', **kwargs_svg)\n",
    "        plt.savefig(f'{fname}.png', **kwargs_png)"
   ]
  },
  {
   "cell_type": "markdown",
   "id": "2ab190e2",
   "metadata": {},
   "source": [
    "### What percentage of respondents chose each answer for each question? "
   ]
  },
  {
   "cell_type": "code",
   "execution_count": null,
   "id": "3623d0b3",
   "metadata": {},
   "outputs": [],
   "source": [
    "for col in cols_questions[:-1]:\n",
    "    df_tmp = df_questions[col].value_counts(normalize=True)*100\n",
    "    qnum = q2nDict[col]\n",
    "\n",
    "    plt.figure()\n",
    "    ax = df_tmp.plot.barh(title=f\"Q{qnum}\", xlim=(0,100), color=DEFAULT_COLOR)\n",
    "    ax.bar_label(ax.containers[0])\n",
    "    \n",
    "    if SAVE:\n",
    "        fname = f'{SAVEDIR}/cryptopolitics_Q{qnum}'\n",
    "        plt.savefig(f'{fname}.svg', **kwargs_svg)\n",
    "        plt.savefig(f'{fname}.png', **kwargs_png)"
   ]
  },
  {
   "cell_type": "markdown",
   "id": "a99361f0",
   "metadata": {},
   "source": [
    "Notes of interest on these, as of 01/09/2022:\n",
    "- **(Q3) A majority of respondents consider crypto to be mainly a political philosophy/lifestyle**, rather than mainly an economic technology. Note that this response was used to choose which of a respondent's political or economic faction was selected as their final classification.\n",
    "- (Q4) Neary two thirds of respondents' primary goal is to create social change and/or disrupt the industry.\n",
    "- (Q5, Q16) A majority of respondents believe most or all cryptogovernance should be on-chain; however, most also believe power should be distributed over a wide variety of on- and off-chain stakeholders. **Slight friction between these beliefs?**\n",
    "- (Q6) For most respondents, privacy is not the most important feature of blockchains and crypto.\n",
    "- **(Q7, Q14) Mixed opinions on government regulation of crypto** - most common response to Q7 is neutral; though most common response to Q14 is to work hand-in-hand with regulators, a majority of respondents prefer a more neutral or adversarial approach to legal oversight.\n",
    "- (Q9, Q10) Majority sentiment is that to grow, crypto should build useful tech that solves real problems for a set of users; large majority believes blockchain and DeFi are beneficial technologies that, on balance, will help most members of society.\n",
    "- **(Q11, Q12) Respondents are polarized on cryptoeconomics**, i.e., on whether crypto teams make a fair and reasonable amount of profit or too much profit, and whether the economic system in crypto is generally fair to most of its participants or unfairly favors powerful interest. Responses are split down the middle for both questions."
   ]
  },
  {
   "cell_type": "markdown",
   "id": "61c55dbb",
   "metadata": {},
   "source": [
    "### Are responses to individual questions correlated?\n",
    "For all pairs of questions, calculate the correlation Cramer's V, then plot the resulting correlation matrix."
   ]
  },
  {
   "cell_type": "code",
   "execution_count": null,
   "id": "2e1786d8",
   "metadata": {},
   "outputs": [],
   "source": [
    "cramersMatrix = compute_cramers_v_matrix(df_questions)\n",
    "df_cramer = pd.DataFrame(cramersMatrix, index=cols_questions, columns=cols_questions)\n",
    "plot_cramers_v_matrix(df_cramer)"
   ]
  },
  {
   "cell_type": "markdown",
   "id": "84ff1011",
   "metadata": {},
   "source": [
    "From a quick glance, most questions have little correlation with one another. One exception may be a correlation between Q2 (\"Which blockchain is the best?\") and some of the other questions; we explore this below, in the section on \"Bitcoin versus Ethereum\". \n",
    "\n",
    "Note that there is not any implication of significance (p-value) in these results. Grey boxes indicate uncomputable correlations (e.g., Q2 is only answered for one answer to Q1; responses to Q19 were lists)."
   ]
  },
  {
   "cell_type": "markdown",
   "id": "590cc5bc",
   "metadata": {},
   "source": [
    "## Bitcoin versus Ethereum\n",
    "Are there any differences in responses and faction assignments between people affiliated with each of these ecosystems?\n",
    "\n",
    "Note that these are not mutually exclusive groups!"
   ]
  },
  {
   "cell_type": "code",
   "execution_count": null,
   "id": "09812b0c",
   "metadata": {},
   "outputs": [],
   "source": [
    "# Select respondents who included an affiliation with Ethereum or Bitcoin\n",
    "optCol = n2qDict[19]\n",
    "df_tmp = df_questions[pd.notnull(df_questions[optCol])]\n",
    "df_eth = df_tmp.loc[df_tmp[optCol].apply(lambda x: 'Ethereum' in x)].drop(columns=[optCol])\n",
    "df_btc = df_tmp.loc[df_tmp[optCol].apply(lambda x: 'Bitcoin' in x)].drop(columns=[optCol])\n",
    "print(\"Number of Ethereum affiliates: \", len(df_eth.index))\n",
    "print(\"Number of Bitcoin affiliates:  \", len(df_btc.index))"
   ]
  },
  {
   "cell_type": "markdown",
   "id": "c6069bb4",
   "metadata": {},
   "source": [
    "### Most common responses to each question, for each affiliation"
   ]
  },
  {
   "cell_type": "code",
   "execution_count": null,
   "id": "7ea73e08",
   "metadata": {},
   "outputs": [],
   "source": [
    "def columns_where_rows_differ(df):\n",
    "    \"\"\"Get a list of the columns for which the row values differ.\"\"\"\n",
    "    \n",
    "    return df.nunique(axis=0).where(lambda x: x>1, axis=0).dropna().index.tolist()"
   ]
  },
  {
   "cell_type": "code",
   "execution_count": null,
   "id": "7e6add66",
   "metadata": {},
   "outputs": [],
   "source": [
    "df_eth.mode()"
   ]
  },
  {
   "cell_type": "code",
   "execution_count": null,
   "id": "046113e0",
   "metadata": {},
   "outputs": [],
   "source": [
    "df_btc.mode()"
   ]
  },
  {
   "cell_type": "code",
   "execution_count": null,
   "id": "a8162436",
   "metadata": {},
   "outputs": [],
   "source": [
    "print(f\"Questions for which Bitcoin and Ethereum respondents had different mode responses:\\n\\t\",\n",
    "      \", \".join(columns_where_rows_differ(pd.concat([df_eth.mode(), df_btc.mode()]))))"
   ]
  },
  {
   "cell_type": "markdown",
   "id": "5d01e1aa",
   "metadata": {},
   "source": [
    "Differences between these groups are in questions **7 (government regulation)**, **12 (fairness of profit)**, **14 (government regulation)**, **15 (gender)**, and **18 (political affiliation)**."
   ]
  },
  {
   "cell_type": "code",
   "execution_count": null,
   "id": "345b4d6f",
   "metadata": {},
   "outputs": [],
   "source": [
    "# Plot these differences in responses\n",
    "for val in [7, 12, 14, 15, 18]:\n",
    "    df_tmp = pd.DataFrame()\n",
    "    for ecosys, df in {'eth': df_eth, 'btc': df_btc}.items():\n",
    "        df_tmp[ecosys] = df[n2qDict[val]].value_counts(normalize=True)*100    \n",
    "\n",
    "    ax = df_tmp.plot.barh(title=n2qDict[val], xlim=(0,100))\n",
    "\n",
    "    if SAVE:\n",
    "        fname = f\"{SAVEDIR}/crytopolitics_btc-v-eth_Q{val}\"\n",
    "        plt.savefig(f\"{fname}.png\", **kwargs_png)\n",
    "        plt.savefig(f\"{fname}.svg\", **kwargs_svg)"
   ]
  },
  {
   "cell_type": "markdown",
   "id": "685185ba",
   "metadata": {},
   "source": [
    "### Differences in distribution of assigned factions"
   ]
  },
  {
   "cell_type": "code",
   "execution_count": null,
   "id": "fdf34cf4",
   "metadata": {},
   "outputs": [],
   "source": [
    "# Plot differences in assigned factions/classes\n",
    "for col in cols_results[1:]:\n",
    "    df_tmp = pd.DataFrame()\n",
    "    for ecosys, df in {'eth': df_eth, 'btc': df_btc}.items():\n",
    "        df_r = df_results[df_results.index.isin(df.index)]\n",
    "        df_tmp[ecosys] = df_r[col].value_counts(normalize=True)*100    \n",
    "\n",
    "    ax = df_tmp.plot.barh(title=col, xlim=(0,100))\n",
    "    \n",
    "    if SAVE:\n",
    "        fname = f\"{SAVEDIR}/crytopolitics_btc-v-eth_{col}\"\n",
    "        plt.savefig(f\"{fname}.png\", **kwargs_png)\n",
    "        plt.savefig(f\"{fname}.svg\", **kwargs_svg)"
   ]
  },
  {
   "cell_type": "markdown",
   "id": "8ef375e2",
   "metadata": {},
   "source": [
    "## Feature selection, dimensionality reduction, and clustering\n",
    "We built the initial set of factions by hand, but we were curious whether other factions and features might arise naturally from the data. To look for these, we used clustering methods (e.g. affinity propagation, agglomerative clustering) and feature selection methods (e.g. PCA, feature agglomeration). The hope was to identify and describe clusters of responses (or groupings of questions) in a meaningful way.\n",
    "\n",
    "While the results are currently inconclusive (no clearly meaningful clusters), we include them here for reference. Let us know if you have questions or suggestions!\n",
    "\n",
    "Steps involved:\n",
    "- **Preprocessing** (how to encode the data)\n",
    "- **Feature selection** (to find which questions most explain variance between respondents) and **dimensionality reduction** (to visualize the clusters; could also be a preprocessing step), i.e., grouping the questions by the responses\n",
    "- **Clustering** (to find groups of similar respondents), i.e., grouping the responses by the questions\n",
    "\n",
    "General process notes:\n",
    "- For many clustering methods, the **distance** or **affinity** metric chosen greatly affects the resulting fit. Since ultimately this data is categorical, wherever there was the option, \"manhattan\" (cityblock) distance was chosen."
   ]
  },
  {
   "cell_type": "markdown",
   "id": "8d9b16bc",
   "metadata": {},
   "source": [
    "### Preprocessing\n",
    "- Drop questions relating to specific ecosystems (Q2, Q19)\n",
    "- Drop rows with any unanswered questions\n",
    "- **Encode the data** in two ways:\n",
    "    - **Categorical**: All questions one-hot encoded (49 columns)\n",
    "    - **Mixed**: All but four categorical questions mapped to ordinal values on -1 to 1 scale, with the remaining questions one-hot encoded (29 columns). The one-hot encoded values are rescaled to reduce their weight relative to the ordinal encoded questions, since each question was split up into four features. *Warning*: this ordinal mapping, done subjectively, greatly affects subsequent results! See the .csv file for the mapping definition."
   ]
  },
  {
   "cell_type": "code",
   "execution_count": null,
   "id": "a807936b",
   "metadata": {},
   "outputs": [],
   "source": [
    "# Preprocessing\n",
    "df_tmp = df_questions.copy().drop(columns=[n2qDict[2], n2qDict[19]])\n",
    "df_to_cluster = df_tmp.dropna()\n",
    "cols_questions_clustering = cols_questions.copy()\n",
    "cols_questions_clustering.remove(n2qDict[2])\n",
    "cols_questions_clustering.remove(n2qDict[19])"
   ]
  },
  {
   "cell_type": "code",
   "execution_count": null,
   "id": "7789eed7",
   "metadata": {},
   "outputs": [],
   "source": [
    "# Import ordinal mapping from file\n",
    "df_map = pd.read_csv('data/cryptopolitics_quiz_cluster_mapping.csv')\n",
    "gb_map = df_map.groupby('Question')\n",
    "\n",
    "# Convert to dictionary\n",
    "mappingDict = {}\n",
    "for key, value in gb_map:\n",
    "    \n",
    "    df_q = gb_map.get_group(key)\n",
    "    questionDict = {}\n",
    "    for i, row in gb_map.get_group(key).iterrows():\n",
    "        try:\n",
    "            m = float(row['Mapping'])\n",
    "        except ValueError:\n",
    "            m = row['Mapping']\n",
    "        questionDict[row['Answer']] = m\n",
    "    \n",
    "    mappingDict[key] = questionDict\n",
    "\n",
    "# Rename dictionary items for ease of working with it\n",
    "mappingDict = {n2qDict[k]: v for (k, v) in mappingDict.items()}\n",
    "\n",
    "# Get mapped version of full response DataFrame\n",
    "df_mapped = df_to_cluster.copy()\n",
    "for col in df_mapped.columns:\n",
    "    df_mapped[col] = df_mapped[col].map(mappingDict[col])\n",
    "\n",
    "print(\"Mixed ordinal and categorical encoding of the data:\")\n",
    "df_mapped.head()"
   ]
  },
  {
   "cell_type": "markdown",
   "id": "22e48153",
   "metadata": {},
   "source": [
    "#### Categorical encoding (one-hot)"
   ]
  },
  {
   "cell_type": "code",
   "execution_count": null,
   "id": "39b9f579",
   "metadata": {},
   "outputs": [],
   "source": [
    "# Encode categorical questions as one-hot\n",
    "v = DictVectorizer(sparse=False)\n",
    "cols_categorical = [n2qDict[x] for x in [4,9,16,17]]\n",
    "X_categorical = v.fit_transform(df_mapped[cols_categorical].to_dict(orient='records'))\n",
    "df_categorical = pd.DataFrame(X_categorical, columns=v.get_feature_names_out())\n",
    "\n",
    "# Rescale one-hot columns\n",
    "# This must be set manually based on the coded values!\n",
    "scaleBy = 0.5 # ordinal_range*(1/n_possible_responses) = (1-(-1))*(1/4); assumes both are constant across questions\n",
    "df_categorical = df_categorical.multiply(scaleBy) \n",
    "\n",
    "# Merge with ordinal to create mixed ordinal-categorical data\n",
    "df_ordinal = df_mapped.drop(columns=cols_categorical)\n",
    "df_mixed = pd.concat([df_ordinal.reset_index(drop=True), df_categorical], axis=1)\n",
    "X_mixed = df_mixed.to_numpy()\n",
    "\n",
    "df_mixed.shape"
   ]
  },
  {
   "cell_type": "markdown",
   "id": "ddefbea8",
   "metadata": {},
   "source": [
    "#### Mixed encoding (ordinal and categorical)"
   ]
  },
  {
   "cell_type": "code",
   "execution_count": null,
   "id": "8dce55ad",
   "metadata": {},
   "outputs": [],
   "source": [
    "# Encode all questions as one-hot (only categorical data)\n",
    "v = DictVectorizer(sparse=False)\n",
    "X_allCat = v.fit_transform(df_to_cluster.to_dict(orient='records'))\n",
    "df_allCat = pd.DataFrame(X_allCat, columns=v.get_feature_names_out())\n",
    "\n",
    "df_allCat.shape"
   ]
  },
  {
   "cell_type": "markdown",
   "id": "9464b8b6",
   "metadata": {},
   "source": [
    "### Feature selection and dimensionality reduction\n",
    " \n",
    "Here, we might hope to find axes that correspond to something like the \"politics\" or \"economics\" axes defined in the survey, or some other belief/value axis not yet identified. These would allow us to view (and even cluster) the data as projected onto these axes.\n",
    "    \n",
    "- **PCA (principal component analysis)** (mixed encoding only)\n",
    "- **Feature agglomeration**\n",
    "\n",
    "An alternative method that could be relevant here is multiple correspondence analysis."
   ]
  },
  {
   "cell_type": "code",
   "execution_count": null,
   "id": "e34c2d7b",
   "metadata": {},
   "outputs": [],
   "source": [
    "def scatter_plot_combos(X, N, colors=None, title=''):\n",
    "    \"\"\"Given X with shape (n_samples, n_dimensions) where n_dimensions may be >2,\n",
    "    plot each combination of dimensions as a 2D scatter plot, with colors optionally specified\"\"\"\n",
    "    \n",
    "    color = DEFAULT_COLOR\n",
    "    if colors is not None:\n",
    "        color = colors\n",
    "    if title != '':\n",
    "        title = title + ': '\n",
    "    \n",
    "    for combo in list(combinations(list(range(N)), 2)):\n",
    "        plt.figure()\n",
    "        plt.scatter(X[:,combo[0]], X[:,combo[1]], color=color)\n",
    "        plt.xlabel(combo[0])\n",
    "        plt.ylabel(combo[1])\n",
    "        plt.title(f\"{title}n_components = {N} {combo}\")"
   ]
  },
  {
   "cell_type": "markdown",
   "id": "bb07a5af",
   "metadata": {},
   "source": [
    "#### PCA\n",
    "Besides providing a set of axes on which to project the data for visualization, the first few PCA components could help us understand which questions are most important in explaining variance between respondents. An important caveat: since PCA assumes numerical data, the component values do not correspond exactly to possible encoded answer values. By snapping these values to the nearest possible answer, we can get an approximation of this."
   ]
  },
  {
   "cell_type": "code",
   "execution_count": null,
   "id": "5f4769b1",
   "metadata": {},
   "outputs": [],
   "source": [
    "def compute_and_plot_pca(X, N, labels=None):\n",
    "    \"\"\"Compute and plot PCA transformation of data\"\"\"\n",
    "    \n",
    "    # Transform\n",
    "    pca = PCA(n_components=N)\n",
    "    X_transformed = pca.fit_transform(X)\n",
    "\n",
    "    print(f\"Total variance explained by {N} components: {100*sum(pca.explained_variance_ratio_):.1f}%\")    \n",
    "    \n",
    "    # Display PCA vectors against one another\n",
    "    df_tmp = pd.DataFrame(np.transpose(pca.components_))\n",
    "    if labels is not None:\n",
    "        df_tmp.index = labels\n",
    "    if len(df_tmp.columns) > 3:\n",
    "        df_tmp = df_tmp.iloc[:, :3]\n",
    "    df_tmp.plot.bar(width=0.8, figsize=(12,6))\n",
    "    plt.ylabel('Component value\\n(note: scale for ordinal is different from that of categorical)')\n",
    "\n",
    "    # Print \"nearest possible\" response value for the first three PCA components\n",
    "    df_tmp2 = (snap_to_nearest_value(df_tmp.transpose())).transpose()\n",
    "    print(f\"Questions for which the components had different nearest-possible responses:\\n\\t\",\n",
    "      \", \".join(columns_where_rows_differ(df_tmp2.transpose())))\n",
    "    \n",
    "    if SAVE:\n",
    "        # Save original and closest-possible-response versions of results for interpretation\n",
    "        df_tmp.to_csv(f\"{SAVEDIR}/cryptopolitics_pca.csv\")\n",
    "        df_tmp2.to_csv(f\"{SAVEDIR}/cryptopolitics_pca_snapto.csv\")\n",
    "    \n",
    "    # Scree plot\n",
    "    plt.figure()\n",
    "    plt.plot(np.arange(pca.n_components_) + 1, 100*pca.explained_variance_ratio_,\n",
    "             'o-', linewidth=2, color=DEFAULT_COLOR)\n",
    "    plt.title('Scree Plot')\n",
    "    plt.xlabel('Principal Component')\n",
    "    plt.ylabel('Variance Explained (%)')\n",
    "    plt.show()\n",
    "\n",
    "    # Plot\n",
    "    scatter_plot_combos(X_transformed, min(N, 3), title='PCA')\n",
    "\n",
    "    return X_transformed, pca"
   ]
  },
  {
   "cell_type": "code",
   "execution_count": null,
   "id": "965ae3ff",
   "metadata": {},
   "outputs": [],
   "source": [
    "def snap_to_nearest_value(df):\n",
    "    \"\"\"For use with PCA or other vectors that do not correspond exactly to possible answer values.\n",
    "    \n",
    "    This is used to help understand which specific questions/responses may play the largest role\n",
    "    in explaining variance between respondents\"\"\"\n",
    "    \n",
    "    TOL = 0.85 # How close is \"close enough\" to a possible response? 0 = exact match.\n",
    "    MAX_VAL = 0.5 # Assuming Really should \n",
    "    \n",
    "    df_snapto = df.copy()\n",
    "    for i, row in df.iterrows():\n",
    "        for col in df.columns:\n",
    "            qnum = col\n",
    "            if '=' in col:\n",
    "                qnum, _ = col.split('=')\n",
    "            val = row[col]\n",
    "                \n",
    "            valsList = sorted(mappingDict[qnum].values())\n",
    "\n",
    "            if '=' not in col:\n",
    "                # Method for ordinal values\n",
    "                valsSpan = valsList[-1] - valsList[0]\n",
    "                nVals = len(valsList)\n",
    "                nearestVals = [x for x in valsList if abs(x - val) < TOL*((valsSpan/2)/(nVals-1))]\n",
    "                if len(nearestVals) == 0:\n",
    "                    snap_to = np.nan\n",
    "                else:\n",
    "                    snap_to = nearestVals[0]\n",
    "                    if len(nearestVals) > 1:\n",
    "                        print(f\"col {col} has more than one nearest value, i.e., fix your formula!\")\n",
    "            else:\n",
    "                # Method for categorical values\n",
    "                if abs(MAX_VAL - val) < TOL*MAX_VAL/2:\n",
    "                    snap_to = MAX_VAL\n",
    "                else:\n",
    "                    snap_to = 0\n",
    "            \n",
    "            df_snapto.at[i, col] = snap_to\n",
    "            \n",
    "    return df_snapto"
   ]
  },
  {
   "cell_type": "code",
   "execution_count": null,
   "id": "9ef631ac",
   "metadata": {
    "scrolled": false
   },
   "outputs": [],
   "source": [
    "# PCA on mostly-ordinal data (not really meaningful for one-hot-encoded data)\n",
    "# Display only first three components for convenience. Later on in the notebook, \n",
    "# any subset of these components can be selected.\n",
    "\n",
    "n_PCA = 17 # Number of questions included in this analysis\n",
    "X_pca, pca_result = compute_and_plot_pca(X_mixed, n_PCA, labels=list(df_mixed.columns))"
   ]
  },
  {
   "cell_type": "markdown",
   "id": "da6133cc",
   "metadata": {},
   "source": [
    "Based on the PCA component values, Q3, Q5, Q14 (government regulation), Q15 (gender) may play the greatest role in differentiating respondents. However, the variance explained by the first 2-3 components is fairly low (less than 50%), so these results are pretty weak.\n",
    "\n",
    "Even so, we'll use these components to visualize the clustering later."
   ]
  },
  {
   "cell_type": "markdown",
   "id": "a9df1ccf",
   "metadata": {},
   "source": [
    "#### Feature agglomeration"
   ]
  },
  {
   "cell_type": "code",
   "execution_count": null,
   "id": "78c4be3e",
   "metadata": {},
   "outputs": [],
   "source": [
    "def compute_and_plot_feature_agglomeration(X, N, labels=None, kwargs={}):\n",
    "    \"\"\"Compute and plot feature agglomeration transformation of data\n",
    "    \n",
    "    Choice of distance metric is very important!\"\"\"\n",
    "    \n",
    "    # Transform\n",
    "    fa = FeatureAgglomeration(n_clusters=N, **kwargs) #cosine, cityblock, hamming, dice\n",
    "    X_transformed = fa.fit_transform(X)\n",
    "\n",
    "    # Display some results\n",
    "    if labels is not None:\n",
    "        features = pd.DataFrame([{'question': labels[i], 'feature': x} for (i, x) in enumerate(fa.labels_)])\n",
    "        gb = features.groupby(by='feature')\n",
    "        for key, item in gb:\n",
    "            print(gb.get_group(key), \"\\n\\n\")\n",
    "    \n",
    "    # Plot\n",
    "    scatter_plot_combos(X_transformed, N, title=f'Feature Agglomeration ({kwargs})')\n",
    "\n",
    "    return X_transformed, fa"
   ]
  },
  {
   "cell_type": "code",
   "execution_count": null,
   "id": "4569d62e",
   "metadata": {},
   "outputs": [],
   "source": [
    "kwargs_fa_allCat = {'affinity': 'manhattan', 'linkage': 'complete'}\n",
    "kwargs_fa_mixed = {'affinity': 'manhattan', 'linkage': 'complete'}#{'affinity': 'cosine', 'linkage': 'single'}"
   ]
  },
  {
   "cell_type": "code",
   "execution_count": null,
   "id": "3c71cbf4",
   "metadata": {},
   "outputs": [],
   "source": [
    "# Feature agglomeration on categorical data - 4 features\n",
    "X_fa_allCat, fa_result_allCat = compute_and_plot_feature_agglomeration(X_allCat, 3,\n",
    "                                                                       labels=df_allCat.columns,\n",
    "                                                                       kwargs=kwargs_fa_allCat)"
   ]
  },
  {
   "cell_type": "markdown",
   "id": "0e2d8a7e",
   "metadata": {},
   "source": [
    "The features grouped with this method could have some relation to the politics/economics/governance question groups we defined for the faction assignments. Next time around, could programmatically compare the two sets of groupings. "
   ]
  },
  {
   "cell_type": "code",
   "execution_count": null,
   "id": "904be23d",
   "metadata": {},
   "outputs": [],
   "source": [
    "# Feature agglomeration on mixed data - 2 features\n",
    "X_fa_mixed, fa_result_mixed = compute_and_plot_feature_agglomeration(X_mixed, 2, \n",
    "                                                                     labels=df_mixed.columns,\n",
    "                                                                     kwargs=kwargs_fa_mixed)"
   ]
  },
  {
   "cell_type": "markdown",
   "id": "c0d92a7d",
   "metadata": {},
   "source": [
    "The features grouped with this method could also have some relation to the politics/economics/governance question groups we defined for the faction assignments. A quick glance through our own mapping shows that the questions we indicated as related to the economics were all labeled as Feature 1, though the politics and governance questions were scattered across the two features."
   ]
  },
  {
   "cell_type": "markdown",
   "id": "511939a3",
   "metadata": {},
   "source": [
    "We'll use these two sets of results to visualize the clustering later."
   ]
  },
  {
   "cell_type": "markdown",
   "id": "5046c21d",
   "metadata": {},
   "source": [
    "### Clustering/group responses by questions\n",
    "Some methods allow a choice of how many clusters to find. If the clusters correspond to anything like the defined factions, there may be ~4 clusters for ~2 orthgonal \"sentiment\" axes --> 16 total clusters (e.g., compare w/politics-economics cross-tabulation), but of very different sizes. \n",
    "  \n",
    "- **K-means**: The imposed constraint of equal cluster sizes may not be suitable for this data. However, K-modes clusters corresponding to a representative set of answers is nice.\n",
    "- **Affinity propagagion**: Has the benefit of interpretability of \"exemplar\" sample, doesn't impose equal cluster sizes, and doesn't require a choice of clusters. \n",
    "- **Agglomerative clustering**: Starts with individual responses and agglomerates responses hierarchically by \"distance\". This could help identify subgroups within larger schools of thought. "
   ]
  },
  {
   "cell_type": "code",
   "execution_count": null,
   "id": "1e52051e",
   "metadata": {},
   "outputs": [],
   "source": [
    "# In case a lot of clusters are found\n",
    "COLORS = np.array(sns.color_palette('bright').as_hex() + \\\n",
    "                  sns.color_palette('pastel').as_hex() + \\\n",
    "                  sns.color_palette('dark').as_hex() + \\\n",
    "                  sns.color_palette('muted').as_hex())"
   ]
  },
  {
   "cell_type": "markdown",
   "id": "eb4bad73",
   "metadata": {},
   "source": [
    "#### K-means (really, K-modes and K-Prototypes)\n",
    "Since this data is categorical/ordinal rather than numerical, we have two alternatives to regular K-means: \n",
    "1. Categorical: [K-modes](https://pypi.org/project/kmodes/) clustering\n",
    "2. Mixed: K-prototypes clustering"
   ]
  },
  {
   "cell_type": "code",
   "execution_count": null,
   "id": "9f7a1177",
   "metadata": {},
   "outputs": [],
   "source": [
    "def k_clustering_sweep(responseMatrix, kMax=20, method=KModes, kwargs={}):\n",
    "    \"\"\"Find clusters using method (KModes or KPrototype)\n",
    "    Sweep from k=1 to k=kMax and plot resulting cost to evaluate which k may be most useful\"\"\"\n",
    "    \n",
    "    costMatrix = []\n",
    "    kValues = list(np.arange(1, kMax+1))\n",
    "    clusterCentroids = {}\n",
    "    for k in range(1, kMax+1):\n",
    "        # Fit and predict clusters, then save centroids and cost\n",
    "        clusters = method(n_clusters=k, n_init=20)\n",
    "        clusters.fit_predict(responseMatrix, **kwargs)\n",
    "        costMatrix.append(clusters.cost_)\n",
    "        clusterCentroids[k] = clusters.cluster_centroids_\n",
    "    \n",
    "    # Plot result of sweep\n",
    "    plt.plot(kValues, np.divide(costMatrix, max(costMatrix)), color=DEFAULT_COLOR)\n",
    "    plt.xlabel(\"k\")\n",
    "    plt.ylabel(\"cost\")\n",
    "    \n",
    "    return clusterCentroids"
   ]
  },
  {
   "cell_type": "markdown",
   "id": "61d69e5e",
   "metadata": {},
   "source": [
    "##### Categorical"
   ]
  },
  {
   "cell_type": "code",
   "execution_count": null,
   "id": "49132af8",
   "metadata": {},
   "outputs": [],
   "source": [
    "clusterCentroids = k_clustering_sweep(df_to_cluster.to_numpy())"
   ]
  },
  {
   "cell_type": "markdown",
   "id": "7e337793",
   "metadata": {},
   "source": [
    "Looks like we've got a bit of an elbow at two clusters, so let's see what the results look like for two clusters:"
   ]
  },
  {
   "cell_type": "code",
   "execution_count": null,
   "id": "fb05c123",
   "metadata": {},
   "outputs": [],
   "source": [
    "df_clusters = pd.DataFrame(clusterCentroids[2])\n",
    "df_clusters.rename(columns={i: x for (i, x) in enumerate(cols_questions_clustering)}, inplace=True)\n",
    "df_clusters"
   ]
  },
  {
   "cell_type": "code",
   "execution_count": null,
   "id": "dd7a012a",
   "metadata": {},
   "outputs": [],
   "source": [
    "print(f\"Questions for which the clusters had different mode responses:\\n\\t\",\n",
    "      \", \".join(columns_where_rows_differ(df_clusters)))"
   ]
  },
  {
   "cell_type": "markdown",
   "id": "465784aa",
   "metadata": {},
   "source": [
    "##### Mixed"
   ]
  },
  {
   "cell_type": "code",
   "execution_count": null,
   "id": "11bf14dc",
   "metadata": {},
   "outputs": [],
   "source": [
    "clusterCentroids_mapped = k_clustering_sweep(df_mapped.to_numpy(),\n",
    "                                             method=KPrototypes,\n",
    "                                             kwargs={'categorical': [2,7,14,15]})"
   ]
  },
  {
   "cell_type": "markdown",
   "id": "0841c3bd",
   "metadata": {},
   "source": [
    "It's not obvious to me that there's a particularly good number of clusters to stop at, so we'll leave it at that."
   ]
  },
  {
   "cell_type": "markdown",
   "id": "c092ede6",
   "metadata": {},
   "source": [
    "#### Affinity propagation"
   ]
  },
  {
   "cell_type": "code",
   "execution_count": null,
   "id": "9f7dde4f",
   "metadata": {},
   "outputs": [],
   "source": [
    "def run_affinity_propagation(X, kwargs={}, X_for_plotting=None, affinity=None):\n",
    "    \"\"\"Perform affinity propagation clustering using precomputed affinity\"\"\"\n",
    "    \n",
    "    if affinity is None:\n",
    "        # Use default affinity (Euclidean)\n",
    "        ap = AffinityPropagation()\n",
    "        ap = ap.fit(X)\n",
    "        clusters = ap.cluster_centers_\n",
    "    else:\n",
    "        # Compute affinities based on given distance metric\n",
    "        assert affinity in ['manhattan', 'cosine'], \"Choose one of 'manhattan' or 'cosine' affinity\"\n",
    "        \n",
    "        ap = AffinityPropagation(affinity='precomputed')\n",
    "        \n",
    "        if affinity == 'manhattan':        \n",
    "            X_distance = manhattan_distances(X)\n",
    "            X_affinity = np.exp(-X_distance * (1/X.shape[1]))\n",
    "        elif affinity == 'cosine':\n",
    "            X_affinity = cosine_similarity(X)\n",
    "            \n",
    "        ap = ap.fit(X_affinity)  \n",
    "        clusters = X[ap.cluster_centers_indices_]\n",
    "    \n",
    "    # Display info on clusters\n",
    "    print(f\"\\tn_clusters: {len(clusters)}\")\n",
    "    pointCounts = np.bincount(ap.labels_)\n",
    "    print(f\"\\tpoints per cluster: min = {min(pointCounts)}, max = {max(pointCounts)}, median = {int(np.median(pointCounts))}\")\n",
    "\n",
    "    # Plot on appropriate number of projected views (using provided projection, if any)\n",
    "    colors =  np.array(list(islice(cycle(COLORS),int(len(clusters) + 1))))\n",
    "    if X.shape[1] <= 3:\n",
    "        scatter_plot_combos(X, X.shape[1], colors=colors[ap.labels_])\n",
    "    elif X_for_plotting is not None:\n",
    "        scatter_plot_combos(X_for_plotting, min(X_for_plotting.shape[1], 3), colors=colors[ap.labels_])\n",
    "        \n",
    "    return clusters, ap"
   ]
  },
  {
   "cell_type": "markdown",
   "id": "b7ec8dd3",
   "metadata": {},
   "source": [
    "##### Cluster original one-hot or ordinal encoded data"
   ]
  },
  {
   "cell_type": "code",
   "execution_count": null,
   "id": "4f1a0f64",
   "metadata": {},
   "outputs": [],
   "source": [
    "ap_affinity = 'manhattan' # Use this for both one-hot and ordinal encoded data. Another viable option could be \"cosine\""
   ]
  },
  {
   "cell_type": "code",
   "execution_count": null,
   "id": "a15cf989",
   "metadata": {},
   "outputs": [],
   "source": [
    "print(\"Categorical:\")\n",
    "clusters_ap_allCat, ap_allCat = run_affinity_propagation(X_allCat, X_for_plotting=X_pca, affinity=ap_affinity)\n",
    "print(\"Mixed:\")\n",
    "clusters_ap_mixed, ap_mixed = run_affinity_propagation(X_mixed, X_for_plotting=X_pca, affinity=ap_affinity)"
   ]
  },
  {
   "cell_type": "markdown",
   "id": "8c0dffac",
   "metadata": {},
   "source": [
    "This is way too many clusters to draw any meaningful conclusions from. But... what if we cluster the clusters themselves? Do the exemplar points consolidate into distinct groupings?"
   ]
  },
  {
   "cell_type": "code",
   "execution_count": null,
   "id": "9d26dbcb",
   "metadata": {},
   "outputs": [],
   "source": [
    "print(\"Clustering on cluster centers... PCA projection\")\n",
    "print(\"Categorical:\")\n",
    "clusters_meta_allCat, ap_meta_allCat = run_affinity_propagation(clusters_ap_allCat, affinity=ap_affinity)\n",
    "print(\"Mixed:\")\n",
    "clusters_meta_mixed, ap_meta_mixed = run_affinity_propagation(clusters_ap_mixed,\n",
    "                             X_for_plotting=pca_result.transform(clusters_ap_mixed),\n",
    "                             affinity=ap_affinity)"
   ]
  },
  {
   "cell_type": "markdown",
   "id": "35cfb5ce",
   "metadata": {},
   "source": [
    "Maybe... there is a lot of overlap between clusters though, at least on this projection. "
   ]
  },
  {
   "cell_type": "code",
   "execution_count": null,
   "id": "1884c190",
   "metadata": {},
   "outputs": [],
   "source": [
    "print(\"Clustering on cluster centers... FA projection\")\n",
    "print(\"Categorical:\")\n",
    "clusters_meta_allCat, ap_meta_allCat = run_affinity_propagation(clusters_ap_allCat, \n",
    "                                                                X_for_plotting=fa_result_allCat.transform(clusters_ap_allCat),\n",
    "                                                                affinity=ap_affinity)\n",
    "print(\"Mixed:\")\n",
    "clusters_meta_mixed, ap_meta_mixed = run_affinity_propagation(clusters_ap_mixed,\n",
    "                             X_for_plotting=fa_result_mixed.transform(clusters_ap_mixed),\n",
    "                             affinity=ap_affinity)"
   ]
  },
  {
   "cell_type": "markdown",
   "id": "003170d6",
   "metadata": {},
   "source": [
    "Changing the projection doesn't yield anything more insightful."
   ]
  },
  {
   "cell_type": "markdown",
   "id": "7b053ed9",
   "metadata": {},
   "source": [
    "#### Agglomerative clustering"
   ]
  },
  {
   "cell_type": "code",
   "execution_count": null,
   "id": "6850bde4",
   "metadata": {},
   "outputs": [],
   "source": [
    "def plot_dendrogram(model, **kwargs):\n",
    "    \"\"\"Create linkage matrix and plot the dendrogram\n",
    "    \n",
    "    Copied from scikit-learn example:\n",
    "    https://scikit-learn.org/stable/auto_examples/cluster/plot_agglomerative_dendrogram.html#sphx-glr-auto-examples-cluster-plot-agglomerative-dendrogram-py\n",
    "    \"\"\"\n",
    "\n",
    "    # Create the counts of samples under each node\n",
    "    counts = np.zeros(model.children_.shape[0])\n",
    "    n_samples = len(model.labels_)\n",
    "    for i, merge in enumerate(model.children_):\n",
    "        current_count = 0\n",
    "        for child_idx in merge:\n",
    "            if child_idx < n_samples:\n",
    "                current_count += 1  # leaf node\n",
    "            else:\n",
    "                current_count += counts[child_idx - n_samples]\n",
    "        counts[i] = current_count\n",
    "\n",
    "    linkage_matrix = np.column_stack(\n",
    "        [model.children_, model.distances_, counts]\n",
    "    ).astype(float)\n",
    "\n",
    "    # Plot the corresponding dendrogram\n",
    "    dendrogram(linkage_matrix, **kwargs)\n",
    "    plt.xlabel(\"Number of points in node (or index of point if no parenthesis)\")"
   ]
  },
  {
   "cell_type": "code",
   "execution_count": null,
   "id": "3bf48e45",
   "metadata": {},
   "outputs": [],
   "source": [
    "def run_agglomerative_clustering(X, nClusters, kwargs={}, X_for_plotting=None):\n",
    "    \"\"\"Run agglomerative clustering\"\"\"\n",
    "    \n",
    "    ac = AgglomerativeClustering(compute_distances=True,\n",
    "                                 n_clusters=nClusters,\n",
    "                                 **kwargs)\n",
    "    ac = ac.fit(X)\n",
    "    y_predicted = ac.labels_.astype(int)\n",
    "\n",
    "    # Display info on clusters\n",
    "    print(\"number of points in each cluster: \", \", \".join([f\"{i}: {str(x)}\" for i, x in enumerate(np.bincount(ac.labels_))]))\n",
    "\n",
    "    # Plot dendrogram of connections between clusters\n",
    "    plt.figure()\n",
    "    plot_dendrogram(ac, truncate_mode=\"lastp\", p=nClusters) \n",
    "\n",
    "    # Plot on appropriate number of projected views (using provided projection, if any)\n",
    "    if X_for_plotting is not None:\n",
    "        scatter_plot_combos(X_for_plotting, min(X_for_plotting.shape[1], 3), colors=COLORS[y_predicted])\n",
    "    else:\n",
    "        scatter_plot_combos(X, min(X.shape[1], 3), colors=COLORS[y_predicted])"
   ]
  },
  {
   "cell_type": "code",
   "execution_count": null,
   "id": "f679ec38",
   "metadata": {},
   "outputs": [],
   "source": [
    "nClusters = 4 # Chosen for the number of (non-NPC-type) factions/classes in each dimension"
   ]
  },
  {
   "cell_type": "code",
   "execution_count": null,
   "id": "ed22dc48",
   "metadata": {},
   "outputs": [],
   "source": [
    "# PCA projection\n",
    "run_agglomerative_clustering(X_allCat, nClusters, X_for_plotting=X_pca)\n",
    "print(\"Mixed:\")\n",
    "run_agglomerative_clustering(X_mixed, nClusters, X_for_plotting=X_pca)"
   ]
  },
  {
   "cell_type": "markdown",
   "id": "b4ab13a2",
   "metadata": {},
   "source": [
    "There is a lot of overlap between clusters, at least on this projection."
   ]
  },
  {
   "cell_type": "code",
   "execution_count": null,
   "id": "69156955",
   "metadata": {},
   "outputs": [],
   "source": [
    "# Feature agglomeration projection\n",
    "print(\"Categorical:\")\n",
    "run_agglomerative_clustering(X_allCat, nClusters, X_for_plotting=X_fa_allCat)\n",
    "print(\"Mixed:\")\n",
    "run_agglomerative_clustering(X_mixed, nClusters, X_for_plotting=X_fa_mixed)"
   ]
  },
  {
   "cell_type": "markdown",
   "id": "cf9702b4",
   "metadata": {},
   "source": [
    "The clusters do seem somewhat more localized in the feature agglomeration categorical-data projection, but it's unclear to what extent they overlap (multiple points are plotted on top of one another)."
   ]
  },
  {
   "cell_type": "markdown",
   "id": "25d1dc8a",
   "metadata": {},
   "source": [
    "##### Cluster lower-dimensional data\n",
    "\n",
    "If any of the 2D embeddings corresponded to something like the politics-economics axes, we might expect there to be a handful of large clusters and lots of clusters with only a few points (compare w/crosstab)."
   ]
  },
  {
   "cell_type": "code",
   "execution_count": null,
   "id": "725fa0b6",
   "metadata": {
    "scrolled": true
   },
   "outputs": [],
   "source": [
    "run_agglomerative_clustering(X_pca[:,:3], nClusters)"
   ]
  },
  {
   "cell_type": "code",
   "execution_count": null,
   "id": "d94ed3fc",
   "metadata": {},
   "outputs": [],
   "source": [
    "run_agglomerative_clustering(X_fa_allCat, nClusters)"
   ]
  },
  {
   "cell_type": "markdown",
   "id": "961ba998",
   "metadata": {},
   "source": [
    "Unfortunately we don't quite observe that, even for other choices of nClusters."
   ]
  }
 ],
 "metadata": {
  "kernelspec": {
   "display_name": "Python 3 (ipykernel)",
   "language": "python",
   "name": "python3"
  },
  "language_info": {
   "codemirror_mode": {
    "name": "ipython",
    "version": 3
   },
   "file_extension": ".py",
   "mimetype": "text/x-python",
   "name": "python",
   "nbconvert_exporter": "python",
   "pygments_lexer": "ipython3",
   "version": "3.9.7"
  }
 },
 "nbformat": 4,
 "nbformat_minor": 5
}
