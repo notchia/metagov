{
 "cells": [
  {
   "cell_type": "markdown",
   "id": "56c9c270",
   "metadata": {},
   "source": [
    "# Govbase for data scientists"
   ]
  },
  {
   "cell_type": "markdown",
   "id": "4e364a37",
   "metadata": {},
   "source": [
    "## What is Govbase?"
   ]
  },
  {
   "cell_type": "markdown",
   "id": "cd309e16",
   "metadata": {},
   "source": [
    "## Why use Govbase?"
   ]
  },
  {
   "cell_type": "markdown",
   "id": "5fdaf5a6",
   "metadata": {},
   "source": [
    "## Importing data from Govbase (in notebook only)\n",
    "- Using API to import data"
   ]
  },
  {
   "cell_type": "markdown",
   "id": "c3ede6f2",
   "metadata": {},
   "source": [
    "## What is currently in Govbase?"
   ]
  },
  {
   "cell_type": "markdown",
   "id": "b8997b84",
   "metadata": {},
   "source": [
    "### **Numbers**: of active projects/organizations/documents"
   ]
  },
  {
   "cell_type": "markdown",
   "id": "b26cf8cd",
   "metadata": {},
   "source": [
    "### **Viz**: distribution of represented project categories, structures, project ownership types"
   ]
  },
  {
   "cell_type": "markdown",
   "id": "bc12130c",
   "metadata": {},
   "source": [
    "### **Viz**: distribution of represented organization structures, activities"
   ]
  },
  {
   "cell_type": "markdown",
   "id": "411e6da9",
   "metadata": {},
   "source": [
    "## What can we learn from Govbase? Some examples."
   ]
  },
  {
   "cell_type": "markdown",
   "id": "55f9d207",
   "metadata": {},
   "source": [
    "### **Viz**: Which projects are most frequently used by organizations?"
   ]
  },
  {
   "cell_type": "markdown",
   "id": "a78ec092",
   "metadata": {},
   "source": [
    "### **Viz**: Which tools are built on most? (dependencies of the most projects)"
   ]
  },
  {
   "cell_type": "markdown",
   "id": "66c05d46",
   "metadata": {},
   "source": [
    "### **Viz**: Distribution of owner types/funding sources for blockchain ecosystem projects"
   ]
  },
  {
   "cell_type": "markdown",
   "id": "4fdb9ded",
   "metadata": {},
   "source": [
    "### **Viz**: Distribution of how open-source organizations are; relationship to e.g., funding source, activity"
   ]
  },
  {
   "cell_type": "markdown",
   "id": "b24872b2",
   "metadata": {},
   "source": [
    "### **Viz**: Most common combinations of structures observed in DAOs (i.e., what's most likely to be needed to implement a DAO)"
   ]
  },
  {
   "cell_type": "markdown",
   "id": "70bcc44e",
   "metadata": {},
   "source": [
    "### **Viz**: Distribution of DAO joining/leaving methods, total effort to join, how do members meet? Are these related to e.g., DAO size, activities"
   ]
  },
  {
   "cell_type": "markdown",
   "id": "32bf3431",
   "metadata": {},
   "source": [
    "## Notes on Govbase future plans/maintenance\n",
    "- Expansion of Documents, Constitutional models, APIs, Entity-Decision model tables?\n",
    "- Maintenance of more fleshed out tables?\n",
    "    - Scrape fields where possible?\n",
    "    - Auto-updating of scrapeable fields every ~1 week?\n",
    "    - Call upon reader to submit updates where needed?"
   ]
  }
 ],
 "metadata": {
  "kernelspec": {
   "display_name": "Python 3 (ipykernel)",
   "language": "python",
   "name": "python3"
  },
  "language_info": {
   "codemirror_mode": {
    "name": "ipython",
    "version": 3
   },
   "file_extension": ".py",
   "mimetype": "text/x-python",
   "name": "python",
   "nbconvert_exporter": "python",
   "pygments_lexer": "ipython3",
   "version": "3.9.7"
  }
 },
 "nbformat": 4,
 "nbformat_minor": 5
}
