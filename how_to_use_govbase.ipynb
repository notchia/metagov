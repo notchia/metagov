{
 "cells": [
  {
   "cell_type": "markdown",
   "id": "13378c06",
   "metadata": {},
   "source": [
    "# Govbase for data scientists"
   ]
  },
  {
   "cell_type": "markdown",
   "id": "3fa94848",
   "metadata": {},
   "source": [
    "## What is Govbase?"
   ]
  },
  {
   "cell_type": "markdown",
   "id": "bd775c21",
   "metadata": {},
   "source": [
    "## Why use Govbase?"
   ]
  },
  {
   "cell_type": "markdown",
   "id": "ddf5dcdd",
   "metadata": {},
   "source": [
    "## Importing data from Govbase (in notebook only)\n",
    "- Using [Python wrapper for Airtable API](https://github.com/josephbestjames/airtable.py) to import data\n",
    "- Need to request access and create account to get API key\n",
    "- Recommend saving the API key in a (.gitignore-d) text file and importing\n",
    "- Loading into pandas DataFrame for ease of analysis"
   ]
  },
  {
   "cell_type": "code",
   "execution_count": 1,
   "id": "66bbdfa5",
   "metadata": {},
   "outputs": [],
   "source": [
    "import pandas as pd\n",
    "import matplotlib.pyplot as plt\n",
    "import seaborn as sns"
   ]
  },
  {
   "cell_type": "code",
   "execution_count": 2,
   "id": "1a569c35",
   "metadata": {},
   "outputs": [],
   "source": [
    "from airtable import airtable\n",
    "\n",
    "# Set Airtable access parameters\n",
    "BASE_ID = 'appx3e9Przn9iprkU'\n",
    "with open('api_key.txt', 'r') as f:\n",
    "    API_KEY = f.readline().strip()\n",
    "    \n",
    "# Set Airtable table-specific parameters\n",
    "FIELDS = {'Projects': ['Project name', 'Status', 'Online / offline', 'Implements structures', \n",
    "                       'Category', 'Subcategory', 'Tags', 'Project ownership type', 'Legally owned by organization', \n",
    "                       'Contributed to by organization', 'Funded by organization', 'Instances'],\n",
    "         'Organizations': ['Organization name', 'Structure (observed)', 'Activities', 'Size', \n",
    "                           'Do you need permission to join?', 'To join, you need to...', 'Total effort to join', \n",
    "                           'How do members meet?', 'Process to leave', 'Instances',\n",
    "                           'How open-source is your infrastructure?'],\n",
    "         'Structures': ['Structure name', 'Belongs to ontology', 'Is subclass of', 'Is component of',\n",
    "                        'Is property of', 'Tags', 'Is superclass of', 'Is subclass of (all)',\n",
    "                        'Implemented by project', 'Used by organization in their governance',\n",
    "                        'Adopted by organization']}"
   ]
  },
  {
   "cell_type": "code",
   "execution_count": 3,
   "id": "5b5b6fa7",
   "metadata": {},
   "outputs": [],
   "source": [
    "at = airtable.Airtable(BASE_ID, API_KEY)"
   ]
  },
  {
   "cell_type": "code",
   "execution_count": 4,
   "id": "40bfdaf5",
   "metadata": {},
   "outputs": [],
   "source": [
    "def get_table_as_df(tableName):\n",
    "    '''Get all records in a table and load into DataFrame'''\n",
    "    records = []\n",
    "    for r in at.iterate(tableName, fields=FIELDS[tableName]):\n",
    "        records.append({'id': r['id'], **(r['fields'])})\n",
    "    df = pd.DataFrame(records)\n",
    "    df.set_index('id', inplace=True)\n",
    "    return df"
   ]
  },
  {
   "cell_type": "code",
   "execution_count": 5,
   "id": "69fde0aa",
   "metadata": {},
   "outputs": [],
   "source": [
    "# Load tables into DataFrames\n",
    "df_projects = get_table_as_df('Projects')\n",
    "df_orgs = get_table_as_df('Organizations')\n",
    "df_structs = get_table_as_df('Structures')"
   ]
  },
  {
   "cell_type": "code",
   "execution_count": 6,
   "id": "7a96d006",
   "metadata": {},
   "outputs": [
    {
     "name": "stdout",
     "output_type": "stream",
     "text": [
      "496\n",
      "443\n",
      "411\n"
     ]
    }
   ],
   "source": [
    "print(len(df_projects.index))\n",
    "print(len(df_orgs.index))\n",
    "print(len(df_structs.index))"
   ]
  },
  {
   "cell_type": "code",
   "execution_count": 7,
   "id": "a05f6723",
   "metadata": {},
   "outputs": [
    {
     "data": {
      "text/html": [
       "<div>\n",
       "<style scoped>\n",
       "    .dataframe tbody tr th:only-of-type {\n",
       "        vertical-align: middle;\n",
       "    }\n",
       "\n",
       "    .dataframe tbody tr th {\n",
       "        vertical-align: top;\n",
       "    }\n",
       "\n",
       "    .dataframe thead th {\n",
       "        text-align: right;\n",
       "    }\n",
       "</style>\n",
       "<table border=\"1\" class=\"dataframe\">\n",
       "  <thead>\n",
       "    <tr style=\"text-align: right;\">\n",
       "      <th></th>\n",
       "      <th>Project name</th>\n",
       "      <th>Category</th>\n",
       "      <th>Legally owned by organization</th>\n",
       "      <th>Online / offline</th>\n",
       "      <th>Contributed to by organization</th>\n",
       "      <th>Status</th>\n",
       "      <th>Project ownership type</th>\n",
       "      <th>Subcategory</th>\n",
       "      <th>Implements structures</th>\n",
       "      <th>Tags</th>\n",
       "      <th>Instances</th>\n",
       "      <th>Funded by organization</th>\n",
       "    </tr>\n",
       "    <tr>\n",
       "      <th>id</th>\n",
       "      <th></th>\n",
       "      <th></th>\n",
       "      <th></th>\n",
       "      <th></th>\n",
       "      <th></th>\n",
       "      <th></th>\n",
       "      <th></th>\n",
       "      <th></th>\n",
       "      <th></th>\n",
       "      <th></th>\n",
       "      <th></th>\n",
       "      <th></th>\n",
       "    </tr>\n",
       "  </thead>\n",
       "  <tbody>\n",
       "    <tr>\n",
       "      <th>rec0Ddf5WWSVr8qRC</th>\n",
       "      <td>Futarchy</td>\n",
       "      <td>product</td>\n",
       "      <td>[recD7IYQqmaGm3PW1]</td>\n",
       "      <td>Online communities</td>\n",
       "      <td>[recD7IYQqmaGm3PW1]</td>\n",
       "      <td>Inactive</td>\n",
       "      <td>Open-source</td>\n",
       "      <td>[software library]</td>\n",
       "      <td>NaN</td>\n",
       "      <td>NaN</td>\n",
       "      <td>NaN</td>\n",
       "      <td>NaN</td>\n",
       "    </tr>\n",
       "    <tr>\n",
       "      <th>rec0QC4Cmj2iIhWJC</th>\n",
       "      <td>Simple Machines Forum</td>\n",
       "      <td>product</td>\n",
       "      <td>NaN</td>\n",
       "      <td>Online communities</td>\n",
       "      <td>NaN</td>\n",
       "      <td>Active</td>\n",
       "      <td>Open-source</td>\n",
       "      <td>[application/tool]</td>\n",
       "      <td>[recz34NUJWuz5yYI4]</td>\n",
       "      <td>NaN</td>\n",
       "      <td>NaN</td>\n",
       "      <td>NaN</td>\n",
       "    </tr>\n",
       "    <tr>\n",
       "      <th>rec0TtUnv3rJqorXf</th>\n",
       "      <td>Jupyter</td>\n",
       "      <td>product</td>\n",
       "      <td>[reccOsNXSYFXhYqpK]</td>\n",
       "      <td>Not community-related</td>\n",
       "      <td>[recRQ3M1BTucR3kS9]</td>\n",
       "      <td>Active</td>\n",
       "      <td>Open-source</td>\n",
       "      <td>[software framework]</td>\n",
       "      <td>NaN</td>\n",
       "      <td>NaN</td>\n",
       "      <td>NaN</td>\n",
       "      <td>NaN</td>\n",
       "    </tr>\n",
       "    <tr>\n",
       "      <th>rec0U16mgXwzoXzBf</th>\n",
       "      <td>Yearn</td>\n",
       "      <td>product</td>\n",
       "      <td>NaN</td>\n",
       "      <td>Not community-related</td>\n",
       "      <td>NaN</td>\n",
       "      <td>Active</td>\n",
       "      <td>NaN</td>\n",
       "      <td>[application/tool]</td>\n",
       "      <td>NaN</td>\n",
       "      <td>[blockchain ecosystem, DeFi]</td>\n",
       "      <td>NaN</td>\n",
       "      <td>NaN</td>\n",
       "    </tr>\n",
       "    <tr>\n",
       "      <th>rec0XapkrY8v3FJ5Z</th>\n",
       "      <td>Airesis</td>\n",
       "      <td>platform</td>\n",
       "      <td>NaN</td>\n",
       "      <td>Online communities</td>\n",
       "      <td>NaN</td>\n",
       "      <td>Active</td>\n",
       "      <td>NaN</td>\n",
       "      <td>[social network]</td>\n",
       "      <td>NaN</td>\n",
       "      <td>NaN</td>\n",
       "      <td>NaN</td>\n",
       "      <td>NaN</td>\n",
       "    </tr>\n",
       "  </tbody>\n",
       "</table>\n",
       "</div>"
      ],
      "text/plain": [
       "                            Project name  Category  \\\n",
       "id                                                   \n",
       "rec0Ddf5WWSVr8qRC               Futarchy   product   \n",
       "rec0QC4Cmj2iIhWJC  Simple Machines Forum   product   \n",
       "rec0TtUnv3rJqorXf                Jupyter   product   \n",
       "rec0U16mgXwzoXzBf                  Yearn   product   \n",
       "rec0XapkrY8v3FJ5Z                Airesis  platform   \n",
       "\n",
       "                  Legally owned by organization       Online / offline  \\\n",
       "id                                                                       \n",
       "rec0Ddf5WWSVr8qRC           [recD7IYQqmaGm3PW1]     Online communities   \n",
       "rec0QC4Cmj2iIhWJC                           NaN     Online communities   \n",
       "rec0TtUnv3rJqorXf           [reccOsNXSYFXhYqpK]  Not community-related   \n",
       "rec0U16mgXwzoXzBf                           NaN  Not community-related   \n",
       "rec0XapkrY8v3FJ5Z                           NaN     Online communities   \n",
       "\n",
       "                  Contributed to by organization    Status  \\\n",
       "id                                                           \n",
       "rec0Ddf5WWSVr8qRC            [recD7IYQqmaGm3PW1]  Inactive   \n",
       "rec0QC4Cmj2iIhWJC                            NaN    Active   \n",
       "rec0TtUnv3rJqorXf            [recRQ3M1BTucR3kS9]    Active   \n",
       "rec0U16mgXwzoXzBf                            NaN    Active   \n",
       "rec0XapkrY8v3FJ5Z                            NaN    Active   \n",
       "\n",
       "                  Project ownership type           Subcategory  \\\n",
       "id                                                               \n",
       "rec0Ddf5WWSVr8qRC            Open-source    [software library]   \n",
       "rec0QC4Cmj2iIhWJC            Open-source    [application/tool]   \n",
       "rec0TtUnv3rJqorXf            Open-source  [software framework]   \n",
       "rec0U16mgXwzoXzBf                    NaN    [application/tool]   \n",
       "rec0XapkrY8v3FJ5Z                    NaN      [social network]   \n",
       "\n",
       "                  Implements structures                          Tags  \\\n",
       "id                                                                      \n",
       "rec0Ddf5WWSVr8qRC                   NaN                           NaN   \n",
       "rec0QC4Cmj2iIhWJC   [recz34NUJWuz5yYI4]                           NaN   \n",
       "rec0TtUnv3rJqorXf                   NaN                           NaN   \n",
       "rec0U16mgXwzoXzBf                   NaN  [blockchain ecosystem, DeFi]   \n",
       "rec0XapkrY8v3FJ5Z                   NaN                           NaN   \n",
       "\n",
       "                  Instances Funded by organization  \n",
       "id                                                  \n",
       "rec0Ddf5WWSVr8qRC       NaN                    NaN  \n",
       "rec0QC4Cmj2iIhWJC       NaN                    NaN  \n",
       "rec0TtUnv3rJqorXf       NaN                    NaN  \n",
       "rec0U16mgXwzoXzBf       NaN                    NaN  \n",
       "rec0XapkrY8v3FJ5Z       NaN                    NaN  "
      ]
     },
     "execution_count": 7,
     "metadata": {},
     "output_type": "execute_result"
    }
   ],
   "source": [
    "df_projects.head()"
   ]
  },
  {
   "cell_type": "markdown",
   "id": "bbfe0145",
   "metadata": {},
   "source": [
    "How full are these columns? (What % of values aren't missing?)"
   ]
  },
  {
   "cell_type": "code",
   "execution_count": 8,
   "id": "1f2ca62c",
   "metadata": {},
   "outputs": [],
   "source": [
    "def pct_full(df):\n",
    "    count = df.count()\n",
    "    pct = count/count[0]*100\n",
    "    print(\"count\\tpct\\tcolumn\")\n",
    "    for col, val in pct.iteritems():\n",
    "        print(f\"{count[col]}\\t({pct[col]:.1f}%)\\tfor {col}\")"
   ]
  },
  {
   "cell_type": "code",
   "execution_count": 9,
   "id": "0aac7988",
   "metadata": {},
   "outputs": [
    {
     "name": "stdout",
     "output_type": "stream",
     "text": [
      "count\tpct\tcolumn\n",
      "496\t(100.0%)\tfor Project name\n",
      "477\t(96.2%)\tfor Category\n",
      "101\t(20.4%)\tfor Legally owned by organization\n",
      "485\t(97.8%)\tfor Online / offline\n",
      "51\t(10.3%)\tfor Contributed to by organization\n",
      "487\t(98.2%)\tfor Status\n",
      "236\t(47.6%)\tfor Project ownership type\n",
      "351\t(70.8%)\tfor Subcategory\n",
      "185\t(37.3%)\tfor Implements structures\n",
      "230\t(46.4%)\tfor Tags\n",
      "69\t(13.9%)\tfor Instances\n",
      "40\t(8.1%)\tfor Funded by organization\n",
      "\n",
      "\n",
      "count\tpct\tcolumn\n",
      "443\t(100.0%)\tfor Organization name\n",
      "416\t(93.9%)\tfor Structure (observed)\n",
      "45\t(10.2%)\tfor Do you need permission to join?\n",
      "10\t(2.3%)\tfor Size\n",
      "123\t(27.8%)\tfor Instances\n",
      "131\t(29.6%)\tfor How open-source is your infrastructure?\n",
      "90\t(20.3%)\tfor Total effort to join\n",
      "117\t(26.4%)\tfor Activities\n",
      "39\t(8.8%)\tfor To join, you need to...\n",
      "34\t(7.7%)\tfor Process to leave\n",
      "29\t(6.5%)\tfor How do members meet?\n"
     ]
    }
   ],
   "source": [
    "pct_full(df_projects)\n",
    "print(\"\\n\")\n",
    "pct_full(df_orgs)"
   ]
  },
  {
   "cell_type": "markdown",
   "id": "8982b4cd",
   "metadata": {},
   "source": [
    "## What is currently in Govbase?"
   ]
  },
  {
   "cell_type": "markdown",
   "id": "1a250628",
   "metadata": {},
   "source": [
    "### **Viz**: distribution of represented project categories, structures, project ownership types"
   ]
  },
  {
   "cell_type": "markdown",
   "id": "c4e8721d",
   "metadata": {},
   "source": [
    "#### Overall"
   ]
  },
  {
   "cell_type": "code",
   "execution_count": 10,
   "id": "b0b9aef6",
   "metadata": {},
   "outputs": [
    {
     "name": "stdout",
     "output_type": "stream",
     "text": [
      "product            254\n",
      "platform           164\n",
      "research            21\n",
      "standard            21\n",
      "policy template     15\n",
      "mashup               2\n",
      "Name: Category, dtype: int64 \n",
      "\n",
      "Active              388\n",
      "Inactive             45\n",
      "Work in progress     40\n",
      "Dead                 14\n",
      "Name: Status, dtype: int64 \n",
      "\n",
      "Open-source        183\n",
      "Privately-owned     41\n",
      "Public domain        7\n",
      "Open-core            5\n",
      "Name: Project ownership type, dtype: int64 \n",
      "\n"
     ]
    }
   ],
   "source": [
    "# Overall breakdown for projects\n",
    "print(df_projects['Category'].value_counts(), '\\n')\n",
    "print(df_projects['Status'].value_counts(), '\\n')\n",
    "print(df_projects['Project ownership type'].value_counts(), '\\n')"
   ]
  },
  {
   "cell_type": "markdown",
   "id": "86ba164d",
   "metadata": {},
   "source": [
    "#### web3-related projects"
   ]
  },
  {
   "cell_type": "code",
   "execution_count": 11,
   "id": "38029af0",
   "metadata": {},
   "outputs": [],
   "source": [
    "# Breakdown for web3-related projects\n",
    "web3Tags = ['blockchain ecosystem', 'DAO ecosystem', 'DeFi']\n",
    "df_tmp = df_projects.loc[pd.notnull(df_projects['Tags'])]\n",
    "df_projects_web3 = df_tmp.loc[df_tmp['Tags'].apply(lambda tags: any(x in tags for x in web3Tags))]"
   ]
  },
  {
   "cell_type": "code",
   "execution_count": 12,
   "id": "e009f3d7",
   "metadata": {},
   "outputs": [
    {
     "name": "stdout",
     "output_type": "stream",
     "text": [
      "For web3-specific projects:\n"
     ]
    },
    {
     "data": {
      "image/png": "[encoded data removed]",
      "text/plain": [
       "<Figure size 432x288 with 1 Axes>"
      ]
     },
     "metadata": {},
     "output_type": "display_data"
    },
    {
     "data": {
      "image/png": "[encoded data removed]",
      "text/plain": [
       "<Figure size 432x288 with 1 Axes>"
      ]
     },
     "metadata": {},
     "output_type": "display_data"
    },
    {
     "data": {
      "image/png": "[encoded data removed]",
      "text/plain": [
       "<Figure size 432x288 with 1 Axes>"
      ]
     },
     "metadata": {},
     "output_type": "display_data"
    }
   ],
   "source": [
    "for col in ['Category', 'Status', 'Project ownership type']:\n",
    "    vals = df_projects_web3[col].value_counts()\n",
    "    plt.figure()\n",
    "    labels = [f\"{k} ({v})\" for k, v in vals.items()]\n",
    "    fig = plt.pie(vals, labels=labels, colors=sns.color_palette(\"Set2\"), wedgeprops=dict(width=0.5))"
   ]
  },
  {
   "cell_type": "markdown",
   "id": "5ea3ad70",
   "metadata": {},
   "source": [
    "### **Viz**: distribution of represented organization structures, activities"
   ]
  },
  {
   "cell_type": "markdown",
   "id": "85789247",
   "metadata": {},
   "source": [
    "#### Overall"
   ]
  },
  {
   "cell_type": "code",
   "execution_count": 13,
   "id": "92a3d3db",
   "metadata": {},
   "outputs": [
    {
     "name": "stdout",
     "output_type": "stream",
     "text": [
      "[recRfWaeaqKyR7Rju]                                          94\n",
      "[recg2w7VeFpp41Uz9]                                          83\n",
      "[recYJRCZRxMoyChU4]                                          82\n",
      "[recB3K3vCbzdXCK35]                                          35\n",
      "[recF5BMnOa6XIEVbF]                                          14\n",
      "[recQXnexB5X4Hxjo1]                                          13\n",
      "[recRuzDsDlxjgHFcV]                                           9\n",
      "[recDq9wGFhDUulrXp]                                           8\n",
      "[reckL7dW8MimIf2Aq]                                           8\n",
      "[rec5hcTwXOE9rKc0X]                                           7\n",
      "[reccV9jcL5d1kROe1]                                           6\n",
      "[recXMtTPXmUysBXtH]                                           6\n",
      "[recqoTeeWdTsPe74k]                                           5\n",
      "[recoKCjN6AFFBfevS]                                           4\n",
      "[rec0OqQbaO84qbl6w]                                           4\n",
      "[rec5IZagKUYtU6pvV]                                           3\n",
      "[rec61bt9k7z444d6b]                                           3\n",
      "[recXpfq6QWWAP2cyh]                                           2\n",
      "[rectSjA8XjfecpEMU]                                           2\n",
      "[recB3K3vCbzdXCK35, recg2w7VeFpp41Uz9]                        1\n",
      "[recbEtpmufbcjIbLV, reck0yxsWe3byVOg1]                        1\n",
      "[recd5hXpUjJNbhbdh]                                           1\n",
      "[recsH1DdvMdC2yfIx]                                           1\n",
      "[recg2w7VeFpp41Uz9, reck0yxsWe3byVOg1]                        1\n",
      "[recg2w7VeFpp41Uz9, recUEZsEVycuZxtQZ]                        1\n",
      "[recb0TTM00rjyW5Hm]                                           1\n",
      "[recg2w7VeFpp41Uz9, recF5BMnOa6XIEVbF]                        1\n",
      "[recRfWaeaqKyR7Rju, recB3K3vCbzdXCK35]                        1\n",
      "[reck0yxsWe3byVOg1, recTOCy6dAcz3C47K, rectSjA8XjfecpEMU]     1\n",
      "[recc01FgpOteHd5CN]                                           1\n",
      "[recggMD8Cgnrk8i68]                                           1\n",
      "[recYJRCZRxMoyChU4, rec5gL0NFf4VhDDha]                        1\n",
      "[recGSffvV1wMd8srW]                                           1\n",
      "[reck0yxsWe3byVOg1]                                           1\n",
      "[recg2w7VeFpp41Uz9, reccV9jcL5d1kROe1]                        1\n",
      "[rec4cUWeFi6PKuEdX]                                           1\n",
      "[reckL7dW8MimIf2Aq, recg2w7VeFpp41Uz9]                        1\n",
      "[recRfWaeaqKyR7Rju, recg2w7VeFpp41Uz9]                        1\n",
      "[recg2w7VeFpp41Uz9, recXMtTPXmUysBXtH]                        1\n",
      "[recRfWaeaqKyR7Rju, recb0TTM00rjyW5Hm]                        1\n",
      "[recCGUwgIRbW3rkcf]                                           1\n",
      "[recg2w7VeFpp41Uz9, rectSjA8XjfecpEMU]                        1\n",
      "[recNac9xWq1vdWojF]                                           1\n",
      "[recYjtWqq93VOVG8h]                                           1\n",
      "[reciJdtxG5ukg9n6x]                                           1\n",
      "[rec2c0gQN40O932mc]                                           1\n",
      "[recUEZsEVycuZxtQZ]                                           1\n",
      "Name: Structure (observed), dtype: int64 \n",
      "\n",
      "work-in-progress    37\n",
      "easy                25\n",
      "medium              17\n",
      "hard                11\n",
      "Name: Total effort to join, dtype: int64 \n",
      "\n",
      "1.000000    47\n",
      "3.000000    34\n",
      "1.666667     9\n",
      "1.500000     7\n",
      "2.000000     7\n",
      "1.400000     5\n",
      "1.333333     4\n",
      "2.333333     4\n",
      "1.285714     2\n",
      "4.000000     2\n",
      "2.142857     1\n",
      "2.153846     1\n",
      "1.800000     1\n",
      "2.500000     1\n",
      "1.600000     1\n",
      "1.833333     1\n",
      "1.571429     1\n",
      "1.166667     1\n",
      "2.600000     1\n",
      "1.625000     1\n",
      "Name: How open-source is your infrastructure?, dtype: int64 \n",
      "\n"
     ]
    }
   ],
   "source": [
    "# Overall breakdown for organizations\n",
    "print(df_orgs['Structure (observed)'].value_counts(), '\\n') # TODO: map to structure names\n",
    "print(df_orgs['Total effort to join'].value_counts(), '\\n')\n",
    "print(df_orgs['How open-source is your infrastructure?'].value_counts(), '\\n') # TODO: split into bins"
   ]
  },
  {
   "cell_type": "markdown",
   "id": "6214d986",
   "metadata": {},
   "source": [
    "#### Breakdown for web3-related organizations"
   ]
  },
  {
   "cell_type": "markdown",
   "id": "1c5b5976",
   "metadata": {},
   "source": [
    "## What can we learn from Govbase? Some examples."
   ]
  },
  {
   "cell_type": "markdown",
   "id": "08beaeb6",
   "metadata": {},
   "source": [
    "### **Viz**: Which projects are most frequently used by organizations?"
   ]
  },
  {
   "cell_type": "markdown",
   "id": "6c49cf39",
   "metadata": {},
   "source": [
    "### **Viz**: Which tools are built on most? (dependencies of the most projects)"
   ]
  },
  {
   "cell_type": "markdown",
   "id": "cdef8cb1",
   "metadata": {},
   "source": [
    "### **Viz**: Distribution of owner types/funding sources for blockchain ecosystem projects"
   ]
  },
  {
   "cell_type": "markdown",
   "id": "946824f4",
   "metadata": {},
   "source": [
    "### **Viz**: Distribution of how open-source organizations are; relationship to e.g., funding source, activity"
   ]
  },
  {
   "cell_type": "markdown",
   "id": "4931dc07",
   "metadata": {},
   "source": [
    "### **Viz**: Most common combinations of structures observed in DAOs (i.e., what's most likely to be needed to implement a DAO)"
   ]
  },
  {
   "cell_type": "markdown",
   "id": "c61d635c",
   "metadata": {},
   "source": [
    "### **Viz**: Distribution of DAO joining/leaving methods, total effort to join, how do members meet? Are these related to e.g., DAO size, activities"
   ]
  },
  {
   "cell_type": "markdown",
   "id": "11761f3a",
   "metadata": {},
   "source": [
    "## Notes on Govbase future plans/maintenance\n",
    "- Expansion of Documents, Constitutional models, APIs, Entity-Decision model tables?\n",
    "- Maintenance of more fleshed out tables?\n",
    "    - Scrape fields where possible?\n",
    "    - Auto-updating of scrapeable fields every ~1 week?\n",
    "    - Call upon reader to submit updates where needed?"
   ]
  }
 ],
 "metadata": {
  "kernelspec": {
   "display_name": "Python 3 (ipykernel)",
   "language": "python",
   "name": "python3"
  },
  "language_info": {
   "codemirror_mode": {
    "name": "ipython",
    "version": 3
   },
   "file_extension": ".py",
   "mimetype": "text/x-python",
   "name": "python",
   "nbconvert_exporter": "python",
   "pygments_lexer": "ipython3",
   "version": "3.9.7"
  }
 },
 "nbformat": 4,
 "nbformat_minor": 5
}
