{
 "cells": [
  {
   "cell_type": "markdown",
   "id": "13378c06",
   "metadata": {},
   "source": [
    "# Govbase for data scientists"
   ]
  },
  {
   "cell_type": "markdown",
   "id": "3fa94848",
   "metadata": {},
   "source": [
    "## What is Govbase?"
   ]
  },
  {
   "cell_type": "markdown",
   "id": "bd775c21",
   "metadata": {},
   "source": [
    "## Why use Govbase?"
   ]
  },
  {
   "cell_type": "markdown",
   "id": "ddf5dcdd",
   "metadata": {},
   "source": [
    "## Importing data from Govbase (in notebook only)\n",
    "- Using [Python wrapper for Airtable API](https://github.com/josephbestjames/airtable.py) to import data\n",
    "- Need to request access and create account to get API key\n",
    "- Recommend saving the API key in a (.gitignore-d) text file and importing\n",
    "- Loading into pandas DataFrame for ease of analysis"
   ]
  },
  {
   "cell_type": "code",
   "execution_count": 108,
   "id": "66bbdfa5",
   "metadata": {},
   "outputs": [],
   "source": [
    "import numpy as np\n",
    "import pandas as pd\n",
    "import matplotlib.pyplot as plt\n",
    "import seaborn as sns\n",
    "from sklearn.preprocessing import MultiLabelBinarizer"
   ]
  },
  {
   "cell_type": "code",
   "execution_count": 2,
   "id": "1a569c35",
   "metadata": {},
   "outputs": [],
   "source": [
    "from airtable import airtable\n",
    "\n",
    "# Set Airtable access parameters\n",
    "BASE_ID = 'appx3e9Przn9iprkU'\n",
    "with open('api_key.txt', 'r') as f:\n",
    "    API_KEY = f.readline().strip()\n",
    "    \n",
    "# Set Airtable table-specific parameters\n",
    "FIELDS = {'Projects': ['Project name', 'Status', 'Online / offline', 'Implements structures', \n",
    "                       'Category', 'Subcategory', 'Tags', 'Project ownership type', 'Legally owned by organization', \n",
    "                       'Contributed to by organization', 'Funded by organization', 'Instances'],\n",
    "         'Organizations': ['Organization name', 'Structure (observed)', 'Activities', 'Size', \n",
    "                           'Do you need permission to join?', 'To join, you need to...', 'Total effort to join', \n",
    "                           'How do members meet?', 'Process to leave', 'Instances',\n",
    "                           'How open-source is your infrastructure?'],\n",
    "         'Structures': ['Structure name', 'Belongs to ontology', 'Is subclass of', 'Is component of',\n",
    "                        'Is property of', 'Tags', 'Is superclass of', 'Is subclass of (all)',\n",
    "                        'Implemented by project', 'Used by organization in their governance',\n",
    "                        'Adopted by organization']}"
   ]
  },
  {
   "cell_type": "code",
   "execution_count": 3,
   "id": "5b5b6fa7",
   "metadata": {},
   "outputs": [],
   "source": [
    "at = airtable.Airtable(BASE_ID, API_KEY)"
   ]
  },
  {
   "cell_type": "code",
   "execution_count": 4,
   "id": "40bfdaf5",
   "metadata": {},
   "outputs": [],
   "source": [
    "def get_table_as_df(tableName):\n",
    "    '''Get all records in a table and load into DataFrame'''\n",
    "    records = []\n",
    "    for r in at.iterate(tableName, fields=FIELDS[tableName]):\n",
    "        records.append({'id': r['id'], **(r['fields'])})\n",
    "    df = pd.DataFrame(records)\n",
    "    df.set_index('id', inplace=True)\n",
    "    return df"
   ]
  },
  {
   "cell_type": "code",
   "execution_count": 133,
   "id": "69fde0aa",
   "metadata": {},
   "outputs": [],
   "source": [
    "# Load tables into DataFrames\n",
    "df_projects = get_table_as_df('Projects')\n",
    "df_orgs = get_table_as_df('Organizations')\n",
    "df_structs = get_table_as_df('Structures')\n",
    "\n",
    "# Links between tables are stored using indices; get dicts to look up name given index\n",
    "projectLookup = df_projects['Project name'].to_dict()\n",
    "orgLookup = df_orgs['Organization name'].to_dict\n",
    "structLookup = df_structs['Structure name'].to_dict()"
   ]
  },
  {
   "cell_type": "code",
   "execution_count": 6,
   "id": "7a96d006",
   "metadata": {},
   "outputs": [
    {
     "name": "stdout",
     "output_type": "stream",
     "text": [
      "501\n",
      "449\n",
      "411\n"
     ]
    }
   ],
   "source": [
    "print(len(df_projects.index))\n",
    "print(len(df_orgs.index))\n",
    "print(len(df_structs.index))"
   ]
  },
  {
   "cell_type": "code",
   "execution_count": 7,
   "id": "a05f6723",
   "metadata": {},
   "outputs": [
    {
     "data": {
      "text/html": [
       "<div>\n",
       "<style scoped>\n",
       "    .dataframe tbody tr th:only-of-type {\n",
       "        vertical-align: middle;\n",
       "    }\n",
       "\n",
       "    .dataframe tbody tr th {\n",
       "        vertical-align: top;\n",
       "    }\n",
       "\n",
       "    .dataframe thead th {\n",
       "        text-align: right;\n",
       "    }\n",
       "</style>\n",
       "<table border=\"1\" class=\"dataframe\">\n",
       "  <thead>\n",
       "    <tr style=\"text-align: right;\">\n",
       "      <th></th>\n",
       "      <th>Project name</th>\n",
       "      <th>Category</th>\n",
       "      <th>Legally owned by organization</th>\n",
       "      <th>Online / offline</th>\n",
       "      <th>Contributed to by organization</th>\n",
       "      <th>Status</th>\n",
       "      <th>Project ownership type</th>\n",
       "      <th>Subcategory</th>\n",
       "      <th>Implements structures</th>\n",
       "      <th>Tags</th>\n",
       "      <th>Instances</th>\n",
       "      <th>Funded by organization</th>\n",
       "    </tr>\n",
       "    <tr>\n",
       "      <th>id</th>\n",
       "      <th></th>\n",
       "      <th></th>\n",
       "      <th></th>\n",
       "      <th></th>\n",
       "      <th></th>\n",
       "      <th></th>\n",
       "      <th></th>\n",
       "      <th></th>\n",
       "      <th></th>\n",
       "      <th></th>\n",
       "      <th></th>\n",
       "      <th></th>\n",
       "    </tr>\n",
       "  </thead>\n",
       "  <tbody>\n",
       "    <tr>\n",
       "      <th>rec0Ddf5WWSVr8qRC</th>\n",
       "      <td>Futarchy</td>\n",
       "      <td>product</td>\n",
       "      <td>[recD7IYQqmaGm3PW1]</td>\n",
       "      <td>Online communities</td>\n",
       "      <td>[recD7IYQqmaGm3PW1]</td>\n",
       "      <td>Inactive</td>\n",
       "      <td>Open-source</td>\n",
       "      <td>[software library]</td>\n",
       "      <td>NaN</td>\n",
       "      <td>NaN</td>\n",
       "      <td>NaN</td>\n",
       "      <td>NaN</td>\n",
       "    </tr>\n",
       "    <tr>\n",
       "      <th>rec0QC4Cmj2iIhWJC</th>\n",
       "      <td>Simple Machines Forum</td>\n",
       "      <td>product</td>\n",
       "      <td>NaN</td>\n",
       "      <td>Online communities</td>\n",
       "      <td>NaN</td>\n",
       "      <td>Active</td>\n",
       "      <td>Open-source</td>\n",
       "      <td>[application/tool]</td>\n",
       "      <td>[recz34NUJWuz5yYI4]</td>\n",
       "      <td>NaN</td>\n",
       "      <td>NaN</td>\n",
       "      <td>NaN</td>\n",
       "    </tr>\n",
       "    <tr>\n",
       "      <th>rec0TtUnv3rJqorXf</th>\n",
       "      <td>Jupyter</td>\n",
       "      <td>product</td>\n",
       "      <td>[reccOsNXSYFXhYqpK]</td>\n",
       "      <td>Not community-related</td>\n",
       "      <td>[recRQ3M1BTucR3kS9]</td>\n",
       "      <td>Active</td>\n",
       "      <td>Open-source</td>\n",
       "      <td>[software framework]</td>\n",
       "      <td>NaN</td>\n",
       "      <td>NaN</td>\n",
       "      <td>NaN</td>\n",
       "      <td>NaN</td>\n",
       "    </tr>\n",
       "    <tr>\n",
       "      <th>rec0U16mgXwzoXzBf</th>\n",
       "      <td>Yearn</td>\n",
       "      <td>product</td>\n",
       "      <td>NaN</td>\n",
       "      <td>Not community-related</td>\n",
       "      <td>NaN</td>\n",
       "      <td>Active</td>\n",
       "      <td>NaN</td>\n",
       "      <td>[application/tool]</td>\n",
       "      <td>NaN</td>\n",
       "      <td>[blockchain ecosystem, DeFi]</td>\n",
       "      <td>NaN</td>\n",
       "      <td>NaN</td>\n",
       "    </tr>\n",
       "    <tr>\n",
       "      <th>rec0XapkrY8v3FJ5Z</th>\n",
       "      <td>Airesis</td>\n",
       "      <td>platform</td>\n",
       "      <td>NaN</td>\n",
       "      <td>Online communities</td>\n",
       "      <td>NaN</td>\n",
       "      <td>Active</td>\n",
       "      <td>NaN</td>\n",
       "      <td>[social network]</td>\n",
       "      <td>NaN</td>\n",
       "      <td>NaN</td>\n",
       "      <td>NaN</td>\n",
       "      <td>NaN</td>\n",
       "    </tr>\n",
       "  </tbody>\n",
       "</table>\n",
       "</div>"
      ],
      "text/plain": [
       "                            Project name  Category  \\\n",
       "id                                                   \n",
       "rec0Ddf5WWSVr8qRC               Futarchy   product   \n",
       "rec0QC4Cmj2iIhWJC  Simple Machines Forum   product   \n",
       "rec0TtUnv3rJqorXf                Jupyter   product   \n",
       "rec0U16mgXwzoXzBf                  Yearn   product   \n",
       "rec0XapkrY8v3FJ5Z                Airesis  platform   \n",
       "\n",
       "                  Legally owned by organization       Online / offline  \\\n",
       "id                                                                       \n",
       "rec0Ddf5WWSVr8qRC           [recD7IYQqmaGm3PW1]     Online communities   \n",
       "rec0QC4Cmj2iIhWJC                           NaN     Online communities   \n",
       "rec0TtUnv3rJqorXf           [reccOsNXSYFXhYqpK]  Not community-related   \n",
       "rec0U16mgXwzoXzBf                           NaN  Not community-related   \n",
       "rec0XapkrY8v3FJ5Z                           NaN     Online communities   \n",
       "\n",
       "                  Contributed to by organization    Status  \\\n",
       "id                                                           \n",
       "rec0Ddf5WWSVr8qRC            [recD7IYQqmaGm3PW1]  Inactive   \n",
       "rec0QC4Cmj2iIhWJC                            NaN    Active   \n",
       "rec0TtUnv3rJqorXf            [recRQ3M1BTucR3kS9]    Active   \n",
       "rec0U16mgXwzoXzBf                            NaN    Active   \n",
       "rec0XapkrY8v3FJ5Z                            NaN    Active   \n",
       "\n",
       "                  Project ownership type           Subcategory  \\\n",
       "id                                                               \n",
       "rec0Ddf5WWSVr8qRC            Open-source    [software library]   \n",
       "rec0QC4Cmj2iIhWJC            Open-source    [application/tool]   \n",
       "rec0TtUnv3rJqorXf            Open-source  [software framework]   \n",
       "rec0U16mgXwzoXzBf                    NaN    [application/tool]   \n",
       "rec0XapkrY8v3FJ5Z                    NaN      [social network]   \n",
       "\n",
       "                  Implements structures                          Tags  \\\n",
       "id                                                                      \n",
       "rec0Ddf5WWSVr8qRC                   NaN                           NaN   \n",
       "rec0QC4Cmj2iIhWJC   [recz34NUJWuz5yYI4]                           NaN   \n",
       "rec0TtUnv3rJqorXf                   NaN                           NaN   \n",
       "rec0U16mgXwzoXzBf                   NaN  [blockchain ecosystem, DeFi]   \n",
       "rec0XapkrY8v3FJ5Z                   NaN                           NaN   \n",
       "\n",
       "                  Instances Funded by organization  \n",
       "id                                                  \n",
       "rec0Ddf5WWSVr8qRC       NaN                    NaN  \n",
       "rec0QC4Cmj2iIhWJC       NaN                    NaN  \n",
       "rec0TtUnv3rJqorXf       NaN                    NaN  \n",
       "rec0U16mgXwzoXzBf       NaN                    NaN  \n",
       "rec0XapkrY8v3FJ5Z       NaN                    NaN  "
      ]
     },
     "execution_count": 7,
     "metadata": {},
     "output_type": "execute_result"
    }
   ],
   "source": [
    "df_projects.head()"
   ]
  },
  {
   "cell_type": "markdown",
   "id": "bbfe0145",
   "metadata": {},
   "source": [
    "How full are these columns? (What % of values aren't missing?)"
   ]
  },
  {
   "cell_type": "code",
   "execution_count": 8,
   "id": "1f2ca62c",
   "metadata": {},
   "outputs": [],
   "source": [
    "def pct_full(df):\n",
    "    count = df.count()\n",
    "    pct = count/count[0]*100\n",
    "    print(\"count\\tpct\\tcolumn\")\n",
    "    for col, val in pct.iteritems():\n",
    "        print(f\"{count[col]}\\t({pct[col]:.1f}%)\\tfor {col}\")"
   ]
  },
  {
   "cell_type": "code",
   "execution_count": 9,
   "id": "0aac7988",
   "metadata": {},
   "outputs": [
    {
     "name": "stdout",
     "output_type": "stream",
     "text": [
      "count\tpct\tcolumn\n",
      "501\t(100.0%)\tfor Project name\n",
      "481\t(96.0%)\tfor Category\n",
      "103\t(20.6%)\tfor Legally owned by organization\n",
      "488\t(97.4%)\tfor Online / offline\n",
      "52\t(10.4%)\tfor Contributed to by organization\n",
      "491\t(98.0%)\tfor Status\n",
      "238\t(47.5%)\tfor Project ownership type\n",
      "355\t(70.9%)\tfor Subcategory\n",
      "187\t(37.3%)\tfor Implements structures\n",
      "233\t(46.5%)\tfor Tags\n",
      "104\t(20.8%)\tfor Instances\n",
      "41\t(8.2%)\tfor Funded by organization\n",
      "\n",
      "\n",
      "count\tpct\tcolumn\n",
      "448\t(100.0%)\tfor Organization name\n",
      "421\t(94.0%)\tfor Structure (observed)\n",
      "45\t(10.0%)\tfor Do you need permission to join?\n",
      "10\t(2.2%)\tfor Size\n",
      "132\t(29.5%)\tfor Instances\n",
      "131\t(29.2%)\tfor How open-source is your infrastructure?\n",
      "90\t(20.1%)\tfor Total effort to join\n",
      "119\t(26.6%)\tfor Activities\n",
      "39\t(8.7%)\tfor To join, you need to...\n",
      "34\t(7.6%)\tfor Process to leave\n",
      "29\t(6.5%)\tfor How do members meet?\n"
     ]
    }
   ],
   "source": [
    "pct_full(df_projects)\n",
    "print(\"\\n\")\n",
    "pct_full(df_orgs)"
   ]
  },
  {
   "cell_type": "code",
   "execution_count": 23,
   "id": "6e5805b8",
   "metadata": {},
   "outputs": [],
   "source": [
    "def handle_nans(fcn, args, nanVal=np.nan):\n",
    "    try:\n",
    "        return fcn(*args)\n",
    "    except:\n",
    "        return nanVal"
   ]
  },
  {
   "cell_type": "markdown",
   "id": "8982b4cd",
   "metadata": {},
   "source": [
    "## What is currently in Govbase?"
   ]
  },
  {
   "cell_type": "markdown",
   "id": "1a250628",
   "metadata": {},
   "source": [
    "### **Viz**: distribution of represented project categories, structures, project ownership types"
   ]
  },
  {
   "cell_type": "markdown",
   "id": "c4e8721d",
   "metadata": {},
   "source": [
    "#### Overall"
   ]
  },
  {
   "cell_type": "code",
   "execution_count": 10,
   "id": "b0b9aef6",
   "metadata": {},
   "outputs": [
    {
     "name": "stdout",
     "output_type": "stream",
     "text": [
      "product            256\n",
      "platform           164\n",
      "research            21\n",
      "standard            21\n",
      "policy template     17\n",
      "mashup               2\n",
      "Name: Category, dtype: int64 \n",
      "\n",
      "Active              389\n",
      "Inactive             45\n",
      "Work in progress     43\n",
      "Dead                 14\n",
      "Name: Status, dtype: int64 \n",
      "\n",
      "Open-source        185\n",
      "Privately-owned     41\n",
      "Public domain        7\n",
      "Open-core            5\n",
      "Name: Project ownership type, dtype: int64 \n",
      "\n"
     ]
    }
   ],
   "source": [
    "# Overall breakdown for projects\n",
    "print(df_projects['Category'].value_counts(), '\\n')\n",
    "print(df_projects['Status'].value_counts(), '\\n')\n",
    "print(df_projects['Project ownership type'].value_counts(), '\\n')"
   ]
  },
  {
   "cell_type": "markdown",
   "id": "86ba164d",
   "metadata": {},
   "source": [
    "#### web3-related projects"
   ]
  },
  {
   "cell_type": "code",
   "execution_count": 11,
   "id": "38029af0",
   "metadata": {},
   "outputs": [],
   "source": [
    "# Breakdown for web3-related projects\n",
    "web3Tags = ['blockchain ecosystem', 'DAO ecosystem', 'DeFi']\n",
    "df_tmp = df_projects.loc[pd.notnull(df_projects['Tags'])]\n",
    "df_projects_web3 = df_tmp.loc[df_tmp['Tags'].apply(lambda tags: any(x in tags for x in web3Tags))]"
   ]
  },
  {
   "cell_type": "code",
   "execution_count": 12,
   "id": "e009f3d7",
   "metadata": {},
   "outputs": [
    {
     "data": {
      "image/png": "[encoded data removed]",
      "text/plain": [
       "<Figure size 432x288 with 1 Axes>"
      ]
     },
     "metadata": {},
     "output_type": "display_data"
    },
    {
     "data": {
      "image/png": "[encoded data removed]",
      "text/plain": [
       "<Figure size 432x288 with 1 Axes>"
      ]
     },
     "metadata": {},
     "output_type": "display_data"
    },
    {
     "data": {
      "image/png": "[encoded data removed]",
      "text/plain": [
       "<Figure size 432x288 with 1 Axes>"
      ]
     },
     "metadata": {},
     "output_type": "display_data"
    }
   ],
   "source": [
    "for col in ['Category', 'Status', 'Project ownership type']:\n",
    "    vals = df_projects_web3[col].value_counts()\n",
    "    plt.figure()\n",
    "    labels = [f\"{k} ({v})\" for k, v in vals.items()]\n",
    "    fig = plt.pie(vals, labels=labels, colors=sns.color_palette(\"Set2\"), wedgeprops=dict(width=0.5))"
   ]
  },
  {
   "cell_type": "markdown",
   "id": "5ea3ad70",
   "metadata": {},
   "source": [
    "### **Viz**: distribution of represented organization structures, activities"
   ]
  },
  {
   "cell_type": "markdown",
   "id": "85789247",
   "metadata": {},
   "source": [
    "#### Overall"
   ]
  },
  {
   "cell_type": "code",
   "execution_count": 135,
   "id": "92a3d3db",
   "metadata": {},
   "outputs": [
    {
     "name": "stdout",
     "output_type": "stream",
     "text": [
      "[DAO]                                                   96\n",
      "[Online community]                                      85\n",
      "[For-profit company]                                    82\n",
      "[Nonprofit organization]                                35\n",
      "[]                                                      28\n",
      "[University]                                            14\n",
      "[Token holders (blockchain)]                            14\n",
      "[Foundation]                                             9\n",
      "[Node operators (blockchain)]                            8\n",
      "[Appointed individuals]                                  8\n",
      "[Person]                                                 7\n",
      "[Miners (blockchain)]                                    6\n",
      "[Committee, board, or council]                           6\n",
      "[Municipality]                                           5\n",
      "[Delegates (blockchain)]                                 4\n",
      "[Organization, group, or community]                      4\n",
      "[Staked token holders (blockchain)]                      3\n",
      "[Government]                                             3\n",
      "[Company]                                                2\n",
      "[Validators (blockchain)]                                2\n",
      "[Association (unincorporated), Cooperative, Company]     1\n",
      "[DAO, Nonprofit organization]                            1\n",
      "[Jurors]                                                 1\n",
      "[Online community, Industry group]                       1\n",
      "[Online community, Token holders (blockchain)]           1\n",
      "[Legal association]                                      1\n",
      "[Masternodes (blockchain)]                               1\n",
      "[Online community, Association (unincorporated)]         1\n",
      "[General partnership]                                    1\n",
      "[Core developers (blockchain)]                           1\n",
      "[Offline community, Association (unincorporated)]        1\n",
      "[Nonprofit organization, Online community]               1\n",
      "[For-profit company, Social enterprise]                  1\n",
      "[Liquidity providers (exchange)]                         1\n",
      "[Association (unincorporated)]                           1\n",
      "[Online community, Miners (blockchain)]                  1\n",
      "[999. Not answered]                                      1\n",
      "[Appointed individuals, Online community]                1\n",
      "[DAO, Online community]                                  1\n",
      "[Online community, Committee, board, or council]         1\n",
      "[DAO, Masternodes (blockchain)]                          1\n",
      "[Collaboration (unincorporated)]                         1\n",
      "[Online community, Company]                              1\n",
      "[Public company]                                         1\n",
      "[Agent or actor]                                         1\n",
      "[Trust]                                                  1\n",
      "[State (organization)]                                   1\n",
      "[Industry group]                                         1\n",
      "Name: Mapped: Structure (observed), dtype: int64 \n",
      "\n",
      "DAO                                  99\n",
      "Online community                     94\n",
      "For-profit company                   83\n",
      "Nonprofit organization               37\n",
      "Token holders (blockchain)           15\n",
      "University                           14\n",
      "Foundation                            9\n",
      "Appointed individuals                 9\n",
      "Node operators (blockchain)           8\n",
      "Committee, board, or council          7\n",
      "Person                                7\n",
      "Miners (blockchain)                   7\n",
      "Municipality                          5\n",
      "Organization, group, or community     4\n",
      "Association (unincorporated)          4\n",
      "Delegates (blockchain)                4\n",
      "Company                               4\n",
      "Government                            3\n",
      "Staked token holders (blockchain)     3\n",
      "Validators (blockchain)               2\n",
      "Masternodes (blockchain)              2\n",
      "Industry group                        2\n",
      "Jurors                                1\n",
      "General partnership                   1\n",
      "999. Not answered                     1\n",
      "Social enterprise                     1\n",
      "Trust                                 1\n",
      "Cooperative                           1\n",
      "Collaboration (unincorporated)        1\n",
      "Liquidity providers (exchange)        1\n",
      "Legal association                     1\n",
      "Offline community                     1\n",
      "Agent or actor                        1\n",
      "Public company                        1\n",
      "State (organization)                  1\n",
      "Core developers (blockchain)          1\n",
      "dtype: int64\n"
     ]
    }
   ],
   "source": [
    "series_tmp = df_orgs['Structure (observed)'].apply(lambda d: d if isinstance(d, list) else [])\n",
    "\n",
    "df_orgs['Mapped: Structure (observed)'] = series_tmp.apply(\n",
    "    lambda structs: [structLookup.get(s, s) for s in structs])     \n",
    "    \n",
    "structsList = df_structs.index.tolist()\n",
    "\n",
    "mlb = MultiLabelBinarizer(sparse_output=True)\n",
    "df_orgStructs = df_orgs[['Organization name', 'Structure (observed)']].join(\n",
    "    pd.DataFrame.sparse.from_spmatrix(mlb.fit_transform(series_tmp),\n",
    "                                      index=df_orgs.index,\n",
    "                                      columns=mlb.classes_))\n",
    "\n",
    "df_orgStructs = df_orgStructs.loc[:, (df_orgStructs != 0).any(axis=0)]\n",
    "\n",
    "print(df_orgs['Mapped: Structure (observed)'].value_counts(), '\\n')\n",
    "print(df_orgStructs.drop(columns=['Organization name', 'Structure (observed)']).rename(columns=lambda s: structLookup.get(s, s)).sum(axis=0).sort_values(ascending=False))"
   ]
  },
  {
   "cell_type": "code",
   "execution_count": 113,
   "id": "57adebf1",
   "metadata": {},
   "outputs": [
    {
     "data": {
      "text/plain": [
       "work-in-progress    37\n",
       "easy                25\n",
       "medium              17\n",
       "hard                11\n",
       "Name: Total effort to join, dtype: int64"
      ]
     },
     "execution_count": 113,
     "metadata": {},
     "output_type": "execute_result"
    }
   ],
   "source": [
    "df_orgs['Total effort to join'].value_counts()"
   ]
  },
  {
   "cell_type": "code",
   "execution_count": 103,
   "id": "8805ac61",
   "metadata": {},
   "outputs": [
    {
     "data": {
      "text/plain": [
       "<AxesSubplot:>"
      ]
     },
     "execution_count": 103,
     "metadata": {},
     "output_type": "execute_result"
    },
    {
     "data": {
      "image/png": "[encoded data removed]",
      "text/plain": [
       "<Figure size 432x288 with 1 Axes>"
      ]
     },
     "metadata": {
      "needs_background": "light"
     },
     "output_type": "display_data"
    }
   ],
   "source": [
    "df_orgs['How open-source is your infrastructure?'].hist()"
   ]
  },
  {
   "cell_type": "markdown",
   "id": "6214d986",
   "metadata": {},
   "source": [
    "#### Breakdown for web3-related organizations"
   ]
  },
  {
   "cell_type": "markdown",
   "id": "1c5b5976",
   "metadata": {},
   "source": [
    "## What can we learn from Govbase? Some examples."
   ]
  },
  {
   "cell_type": "markdown",
   "id": "08beaeb6",
   "metadata": {},
   "source": [
    "### **Viz**: Which projects are most frequently used by organizations?"
   ]
  },
  {
   "cell_type": "markdown",
   "id": "6c49cf39",
   "metadata": {},
   "source": [
    "### **Viz**: Which tools are built on most? (dependencies of the most projects)"
   ]
  },
  {
   "cell_type": "markdown",
   "id": "cdef8cb1",
   "metadata": {},
   "source": [
    "### **Viz**: Distribution of owner types/funding sources for blockchain ecosystem projects"
   ]
  },
  {
   "cell_type": "markdown",
   "id": "946824f4",
   "metadata": {},
   "source": [
    "### **Viz**: Distribution of how open-source organizations are; relationship to e.g., funding source, activity"
   ]
  },
  {
   "cell_type": "markdown",
   "id": "4931dc07",
   "metadata": {},
   "source": [
    "### **Viz**: Most common combinations of structures observed in DAOs (i.e., what's most likely to be needed to implement a DAO)"
   ]
  },
  {
   "cell_type": "markdown",
   "id": "c61d635c",
   "metadata": {},
   "source": [
    "### **Viz**: Distribution of DAO joining/leaving methods, total effort to join, how do members meet? Are these related to e.g., DAO size, activities"
   ]
  },
  {
   "cell_type": "markdown",
   "id": "11761f3a",
   "metadata": {},
   "source": [
    "## Notes on Govbase future plans/maintenance\n",
    "- Expansion of Documents, Constitutional models, APIs, Entity-Decision model tables?\n",
    "- Maintenance of more fleshed out tables?\n",
    "    - Scrape fields where possible?\n",
    "    - Auto-updating of scrapeable fields every ~1 week?\n",
    "    - Call upon reader to submit updates where needed?"
   ]
  }
 ],
 "metadata": {
  "kernelspec": {
   "display_name": "Python 3 (ipykernel)",
   "language": "python",
   "name": "python3"
  },
  "language_info": {
   "codemirror_mode": {
    "name": "ipython",
    "version": 3
   },
   "file_extension": ".py",
   "mimetype": "text/x-python",
   "name": "python",
   "nbconvert_exporter": "python",
   "pygments_lexer": "ipython3",
   "version": "3.9.7"
  }
 },
 "nbformat": 4,
 "nbformat_minor": 5
}
