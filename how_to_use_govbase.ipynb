{
 "cells": [
  {
   "cell_type": "markdown",
   "id": "19185ddd",
   "metadata": {},
   "source": [
    "# Govbase for data scientists"
   ]
  },
  {
   "cell_type": "markdown",
   "id": "5073f838",
   "metadata": {},
   "source": [
    "## What is Govbase?"
   ]
  },
  {
   "cell_type": "markdown",
   "id": "ebb4ae49",
   "metadata": {},
   "source": [
    "## Why use Govbase?"
   ]
  },
  {
   "cell_type": "markdown",
   "id": "72c7405b",
   "metadata": {},
   "source": [
    "## Importing data from Govbase (in notebook only)\n",
    "- Using API to import data"
   ]
  },
  {
   "cell_type": "markdown",
   "id": "5932d836",
   "metadata": {},
   "source": [
    "## What is currently in Govbase?"
   ]
  },
  {
   "cell_type": "markdown",
   "id": "8af1fdd3",
   "metadata": {},
   "source": [
    "### **Numbers**: of active projects/organizations/documents"
   ]
  },
  {
   "cell_type": "markdown",
   "id": "fcc2c6d4",
   "metadata": {},
   "source": [
    "### **Viz**: distribution of project categories/structures representes"
   ]
  },
  {
   "cell_type": "markdown",
   "id": "26e97dbc",
   "metadata": {},
   "source": [
    "### **Viz**: distribution of organization categories represented"
   ]
  },
  {
   "cell_type": "markdown",
   "id": "b325715b",
   "metadata": {},
   "source": [
    "## What can we learn from Govbase? Some examples."
   ]
  },
  {
   "cell_type": "markdown",
   "id": "46a9a2b1",
   "metadata": {},
   "source": [
    "### **Viz**: Which projects are most frequently used by organizations?"
   ]
  },
  {
   "cell_type": "markdown",
   "id": "c6fc24c0",
   "metadata": {},
   "source": [
    "### **Viz**: Which tools are built on most? (dependencies of the most projects)"
   ]
  },
  {
   "cell_type": "markdown",
   "id": "1a80cf28",
   "metadata": {},
   "source": [
    "### **Viz** What are the most common combinations of structures observed in DAOs? (i.e., needed to implement a DAO)"
   ]
  },
  {
   "cell_type": "markdown",
   "id": "86251d18",
   "metadata": {},
   "source": [
    "### **Viz**: Distribution of how open-source a project/organization is"
   ]
  },
  {
   "cell_type": "markdown",
   "id": "9d478c68",
   "metadata": {},
   "source": [
    "### Viz: Distribution of owner types/funding sources for blockchain ecosystem projects"
   ]
  },
  {
   "cell_type": "markdown",
   "id": "e7712143",
   "metadata": {},
   "source": [
    "## Notes on Govbase future plans/maintenance\n",
    "- Expansion of Documents, Constitutional models, APIs, Entity-Decision model tables?\n",
    "- Maintenance of more fleshed out tables?\n",
    "    - Scrape fields where possible?\n",
    "    - Auto-updating of scrapeable fields every ~1 week?\n",
    "    - Call upon reader to submit updates where needed?"
   ]
  }
 ],
 "metadata": {
  "kernelspec": {
   "display_name": "Python 3 (ipykernel)",
   "language": "python",
   "name": "python3"
  },
  "language_info": {
   "codemirror_mode": {
    "name": "ipython",
    "version": 3
   },
   "file_extension": ".py",
   "mimetype": "text/x-python",
   "name": "python",
   "nbconvert_exporter": "python",
   "pygments_lexer": "ipython3",
   "version": "3.9.7"
  }
 },
 "nbformat": 4,
 "nbformat_minor": 5
}
