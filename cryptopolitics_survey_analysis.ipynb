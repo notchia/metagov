{
 "cells": [
  {
   "cell_type": "code",
   "execution_count": 1,
   "id": "931e2721",
   "metadata": {},
   "outputs": [],
   "source": [
    "import pandas as pd\n",
    "import matplotlib.pyplot as plt"
   ]
  },
  {
   "cell_type": "code",
   "execution_count": 2,
   "id": "5ef1d996",
   "metadata": {},
   "outputs": [],
   "source": [
    "import at2df"
   ]
  },
  {
   "cell_type": "markdown",
   "id": "742f7c47",
   "metadata": {},
   "source": [
    "# Analyze Cryptopolitics survey results"
   ]
  },
  {
   "cell_type": "markdown",
   "id": "a5fb1bb7",
   "metadata": {},
   "source": [
    "## Import data"
   ]
  },
  {
   "cell_type": "code",
   "execution_count": 3,
   "id": "62e03e7a",
   "metadata": {},
   "outputs": [],
   "source": [
    "at = at2df.get_airtable()"
   ]
  },
  {
   "cell_type": "code",
   "execution_count": 4,
   "id": "36f892c7",
   "metadata": {},
   "outputs": [],
   "source": [
    "df = at2df.get_table_as_df(at, 'Cryptopolitics')"
   ]
  },
  {
   "cell_type": "markdown",
   "id": "923c5d42",
   "metadata": {},
   "source": [
    "## Investigate relationships between beliefs/results\n",
    "Investigate relationships between beliefs\n",
    "- Frequency of responses to each question\n",
    "- Frequency of resulting classifications/factions\n",
    "- For select (all?) pairs of questions, cross-tabulate and calculate Cramer's V for strength of relation"
   ]
  }
 ],
 "metadata": {
  "kernelspec": {
   "display_name": "Python 3 (ipykernel)",
   "language": "python",
   "name": "python3"
  },
  "language_info": {
   "codemirror_mode": {
    "name": "ipython",
    "version": 3
   },
   "file_extension": ".py",
   "mimetype": "text/x-python",
   "name": "python",
   "nbconvert_exporter": "python",
   "pygments_lexer": "ipython3",
   "version": "3.9.7"
  }
 },
 "nbformat": 4,
 "nbformat_minor": 5
}
