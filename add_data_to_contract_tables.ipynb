{
 "cells": [
  {
   "cell_type": "code",
   "execution_count": 1,
   "id": "0218af00",
   "metadata": {},
   "outputs": [],
   "source": [
    "import pandas as pd\n",
    "import at2df"
   ]
  },
  {
   "cell_type": "code",
   "execution_count": 4,
   "id": "400e8e81",
   "metadata": {},
   "outputs": [],
   "source": [
    "at = at2df.get_airtable()"
   ]
  },
  {
   "cell_type": "code",
   "execution_count": 5,
   "id": "354152ca",
   "metadata": {},
   "outputs": [],
   "source": [
    "df_objects = pd.read_csv('tmp/contract_objects.csv', index_col=0)\n",
    "\n",
    "df_objects = df_objects.fillna('').astype(str).drop(columns=['line_numbers', 'full_comment'])\n",
    "for i, row in df_objects.iterrows():\n",
    "    at.create('Contract Objects', row.to_dict())"
   ]
  },
  {
   "cell_type": "code",
   "execution_count": 17,
   "id": "0b010cd6",
   "metadata": {},
   "outputs": [],
   "source": [
    "df_parameters = pd.read_csv('tmp/contract_parameters.csv', index_col=0)\n",
    "\n",
    "df_parameters = df_parameters.fillna('').astype(str).drop(columns=['line_number', 'full_comment'])\n",
    "for i, row in df_parameters.iterrows():\n",
    "    at.create('Contract Parameters', row.to_dict())"
   ]
  },
  {
   "cell_type": "code",
   "execution_count": null,
   "id": "b25776d5",
   "metadata": {},
   "outputs": [],
   "source": []
  }
 ],
 "metadata": {
  "kernelspec": {
   "display_name": "Python 3 (ipykernel)",
   "language": "python",
   "name": "python3"
  },
  "language_info": {
   "codemirror_mode": {
    "name": "ipython",
    "version": 3
   },
   "file_extension": ".py",
   "mimetype": "text/x-python",
   "name": "python",
   "nbconvert_exporter": "python",
   "pygments_lexer": "ipython3",
   "version": "3.9.7"
  }
 },
 "nbformat": 4,
 "nbformat_minor": 5
}
